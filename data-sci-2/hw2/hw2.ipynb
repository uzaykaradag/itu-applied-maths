{
 "cells": [
  {
   "cell_type": "markdown",
   "metadata": {},
   "source": [
    "# HOMEWORK II\n",
    "### Hasan Çelik 090180305 | Uzay Karadağ 090200738\n",
    "\n",
    "## Problem Definition"
   ]
  },
  {
   "cell_type": "markdown",
   "metadata": {},
   "source": [
    "In platforms like last.fm, users generally add tags to make the song get seen by those who wish listening them. Some users find what they will listen with these tags which includes information about the genres. Although, there are many missing tags which lead users spend more time finding what to listen. For this problem, we want you to implement machine learning algorithms to improve data quality of the last.fm, and the user experience. \n",
    "\n",
    "<b>Your task is here, classifiying  whether given song's genre is progressive rock or pop by its lyrics.</b><p>That project is different than other classification-based projects. So, after you complete that assignment; you will be able to comprehend many basic concepts of Natural Language Processing.</p>"
   ]
  },
  {
   "cell_type": "markdown",
   "metadata": {},
   "source": [
    "#### **The homework is due Sunday, October 17 midnight.** "
   ]
  },
  {
   "cell_type": "markdown",
   "metadata": {},
   "source": [
    "## Import Libraries"
   ]
  },
  {
   "cell_type": "markdown",
   "metadata": {},
   "source": [
    "Main Libraries for you to deploy your model (Feel free to use other libraries that you think helpful):  \n",
    "<li><a href = 'https://pandas.pydata.org/'>\n",
    "Pandas\n",
    "</a></li> \n",
    "<li><a href = 'https://numpy.org/'>\n",
    "Numpy\n",
    "</a></li> \n",
    "<li><a href = 'https://scikit-learn.org/'>\n",
    "Sklearn \n",
    "</a></li> \n",
    "<li><a href = 'https://docs.python.org/3/library/re.html'>\n",
    "re\n",
    "</a></li> \n",
    "<li><a href = 'https://www.nltk.org/'>\n",
    "nltk\n",
    "</a></li> \n",
    "<li><a href = 'https://amueller.github.io/word_cloud/'>\n",
    "WordCloud \n",
    "</a></li>\n",
    "\n"
   ]
  },
  {
   "cell_type": "code",
   "execution_count": 122,
   "metadata": {},
   "outputs": [],
   "source": [
    "import pandas as pd\n",
    "import numpy as np\n",
    "import sklearn\n",
    "import re\n",
    "import nltk\n",
    "import wordcloud\n",
    "import warnings\n",
    "warnings.filterwarnings(\"ignore\")"
   ]
  },
  {
   "cell_type": "markdown",
   "metadata": {},
   "source": [
    "### Import Data"
   ]
  },
  {
   "cell_type": "markdown",
   "metadata": {},
   "source": [
    "Use <a href = 'https://pandas.pydata.org/pandas-docs/stable/reference/api/pandas.read_excel.html'>\n",
    "pandas.read_excel()\n",
    "</a>\n",
    "function for importing your excel file."
   ]
  },
  {
   "cell_type": "code",
   "execution_count": 123,
   "metadata": {},
   "outputs": [
    {
     "data": {
      "text/html": [
       "<div>\n",
       "<style scoped>\n",
       "    .dataframe tbody tr th:only-of-type {\n",
       "        vertical-align: middle;\n",
       "    }\n",
       "\n",
       "    .dataframe tbody tr th {\n",
       "        vertical-align: top;\n",
       "    }\n",
       "\n",
       "    .dataframe thead th {\n",
       "        text-align: right;\n",
       "    }\n",
       "</style>\n",
       "<table border=\"1\" class=\"dataframe\">\n",
       "  <thead>\n",
       "    <tr style=\"text-align: right;\">\n",
       "      <th></th>\n",
       "      <th>genre</th>\n",
       "      <th>lyrics</th>\n",
       "      <th>Artist</th>\n",
       "      <th>Song</th>\n",
       "    </tr>\n",
       "  </thead>\n",
       "  <tbody>\n",
       "    <tr>\n",
       "      <th>0</th>\n",
       "      <td>prog</td>\n",
       "      <td>I am just a new boy,\\nStranger in this town.,\\...</td>\n",
       "      <td>Pink Floyd</td>\n",
       "      <td>Young Lust Lyrics</td>\n",
       "    </tr>\n",
       "    <tr>\n",
       "      <th>1</th>\n",
       "      <td>prog</td>\n",
       "      <td>Eins, zwei, drei, alle!,Ooooh You cannot reach...</td>\n",
       "      <td>Pink Floyd</td>\n",
       "      <td>Waiting For The Worms Lyrics</td>\n",
       "    </tr>\n",
       "    <tr>\n",
       "      <th>2</th>\n",
       "      <td>prog</td>\n",
       "      <td>All alone, or in twos,\\nThe ones who really lo...</td>\n",
       "      <td>Pink Floyd</td>\n",
       "      <td>Outside The Wall Lyrics</td>\n",
       "    </tr>\n",
       "    <tr>\n",
       "      <th>3</th>\n",
       "      <td>prog</td>\n",
       "      <td>Into the distance a ribbon of black,\\nStretche...</td>\n",
       "      <td>Pink Floyd</td>\n",
       "      <td>Learning To Fly Lyrics</td>\n",
       "    </tr>\n",
       "    <tr>\n",
       "      <th>4</th>\n",
       "      <td>prog</td>\n",
       "      <td>You got to be crazy, gotta have a real need,\\n...</td>\n",
       "      <td>Pink Floyd</td>\n",
       "      <td>Dogs Lyrics</td>\n",
       "    </tr>\n",
       "    <tr>\n",
       "      <th>...</th>\n",
       "      <td>...</td>\n",
       "      <td>...</td>\n",
       "      <td>...</td>\n",
       "      <td>...</td>\n",
       "    </tr>\n",
       "    <tr>\n",
       "      <th>825</th>\n",
       "      <td>pop</td>\n",
       "      <td>I Don't Know,\\nThat You Want To Try,\\nEvertime...</td>\n",
       "      <td>Michael Jackson</td>\n",
       "      <td>Remember The Time Lyrics</td>\n",
       "    </tr>\n",
       "    <tr>\n",
       "      <th>826</th>\n",
       "      <td>pop</td>\n",
       "      <td>Girl, close your eyes,\\nLet that rhythm get in...</td>\n",
       "      <td>Michael Jackson</td>\n",
       "      <td>Rock With You Lyrics</td>\n",
       "    </tr>\n",
       "    <tr>\n",
       "      <th>827</th>\n",
       "      <td>pop</td>\n",
       "      <td>Help,\\nI have done it again,\\nI have been here...</td>\n",
       "      <td>Sia</td>\n",
       "      <td>Breathe Me Lyrics</td>\n",
       "    </tr>\n",
       "    <tr>\n",
       "      <th>828</th>\n",
       "      <td>pop</td>\n",
       "      <td>Yeah, Rihanna,Good Girl Gone Bad,\\nTake three,...</td>\n",
       "      <td>Rihanna</td>\n",
       "      <td>Umbrella Lyrics</td>\n",
       "    </tr>\n",
       "    <tr>\n",
       "      <th>829</th>\n",
       "      <td>pop</td>\n",
       "      <td>Work, work, work, work, work, work,He said me ...</td>\n",
       "      <td>Rihanna</td>\n",
       "      <td>Work Lyrics</td>\n",
       "    </tr>\n",
       "  </tbody>\n",
       "</table>\n",
       "<p>830 rows × 4 columns</p>\n",
       "</div>"
      ],
      "text/plain": [
       "    genre                                             lyrics           Artist  \\\n",
       "0    prog  I am just a new boy,\\nStranger in this town.,\\...       Pink Floyd   \n",
       "1    prog  Eins, zwei, drei, alle!,Ooooh You cannot reach...       Pink Floyd   \n",
       "2    prog  All alone, or in twos,\\nThe ones who really lo...       Pink Floyd   \n",
       "3    prog  Into the distance a ribbon of black,\\nStretche...       Pink Floyd   \n",
       "4    prog  You got to be crazy, gotta have a real need,\\n...       Pink Floyd   \n",
       "..    ...                                                ...              ...   \n",
       "825   pop  I Don't Know,\\nThat You Want To Try,\\nEvertime...  Michael Jackson   \n",
       "826   pop  Girl, close your eyes,\\nLet that rhythm get in...  Michael Jackson   \n",
       "827   pop  Help,\\nI have done it again,\\nI have been here...              Sia   \n",
       "828   pop  Yeah, Rihanna,Good Girl Gone Bad,\\nTake three,...          Rihanna   \n",
       "829   pop  Work, work, work, work, work, work,He said me ...          Rihanna   \n",
       "\n",
       "                             Song  \n",
       "0               Young Lust Lyrics  \n",
       "1    Waiting For The Worms Lyrics  \n",
       "2         Outside The Wall Lyrics  \n",
       "3          Learning To Fly Lyrics  \n",
       "4                     Dogs Lyrics  \n",
       "..                            ...  \n",
       "825      Remember The Time Lyrics  \n",
       "826          Rock With You Lyrics  \n",
       "827             Breathe Me Lyrics  \n",
       "828               Umbrella Lyrics  \n",
       "829                   Work Lyrics  \n",
       "\n",
       "[830 rows x 4 columns]"
      ]
     },
     "execution_count": 123,
     "metadata": {},
     "output_type": "execute_result"
    }
   ],
   "source": [
    "### Code here (Write 1 line code to import your data as excel file)\n",
    "data = pd.read_excel(\"selected_songs.xlsx\")\n",
    "data"
   ]
  },
  {
   "cell_type": "markdown",
   "metadata": {},
   "source": [
    "## PART I : Data Preprocessing"
   ]
  },
  {
   "cell_type": "markdown",
   "metadata": {},
   "source": [
    "<a href=\"https://www.edupristine.com/blog/text-mining-overview\">Here </a> is a brief blogpost about text mining steps and terminology used below.If you want more detail about text mining and nltk library in Python, this <a href=\"https://www.youtube.com/watch?v=05ONoGfmKvA\">video</a> could help. \n"
   ]
  },
  {
   "cell_type": "markdown",
   "metadata": {},
   "source": [
    "### 1-) Removing Numbers, Punctuations and Lower the Words"
   ]
  },
  {
   "cell_type": "code",
   "execution_count": 124,
   "metadata": {},
   "outputs": [],
   "source": [
    "# Please run the code\n",
    "def rid_of_specials(words):\n",
    "    new= ''\n",
    "    for i in range(len(words)):\n",
    "        a = re.sub('[^A-Za-z]+', ' ', words[i]).lower()\n",
    "        new += a\n",
    "    return new"
   ]
  },
  {
   "cell_type": "markdown",
   "metadata": {},
   "source": [
    "#### a.Apply <b>rid_of_specials</b> to lyrics column in your dataset.\n"
   ]
  },
  {
   "cell_type": "code",
   "execution_count": 125,
   "metadata": {},
   "outputs": [],
   "source": [
    "data['lyrics'] =  [rid_of_specials(i) for i in data[\"lyrics\"]]"
   ]
  },
  {
   "cell_type": "markdown",
   "metadata": {},
   "source": [
    "#### b.Explain what above code cell does step by step and why you run it. "
   ]
  },
  {
   "cell_type": "markdown",
   "metadata": {},
   "source": [
    "We pass the lyrics of every song in our dataframe to the user-defined *rid_of_specials* function and store the returned ones using list comprehesion. The function check every word for non-letter characters using the *sub* method from the *regex* module, then we apply the *lower* method for uniformity."
   ]
  },
  {
   "cell_type": "markdown",
   "metadata": {},
   "source": [
    "### 2-) Tokenize"
   ]
  },
  {
   "cell_type": "code",
   "execution_count": 126,
   "metadata": {},
   "outputs": [],
   "source": [
    "from nltk.tokenize import word_tokenize\n",
    "tokenized=[word_tokenize(i) for i in data['lyrics']]"
   ]
  },
  {
   "cell_type": "markdown",
   "metadata": {},
   "source": [
    "### 3-) Removing Stopwords"
   ]
  },
  {
   "cell_type": "code",
   "execution_count": 127,
   "metadata": {},
   "outputs": [],
   "source": [
    "# Please run the code\n",
    "import nltk\n",
    "from nltk.corpus import stopwords\n",
    "#Step 1\n",
    "stop_words = set(stopwords.words('english'))\n",
    "#Step 2\n",
    "stopped = [[i for i in j if i not in stop_words] for j in tokenized]"
   ]
  },
  {
   "cell_type": "markdown",
   "metadata": {},
   "source": [
    "#### a.Explain what above code cell does step by step and why you run it. "
   ]
  },
  {
   "cell_type": "markdown",
   "metadata": {},
   "source": [
    "We import  *stopwords* from the *nltk.corpus* module, then import the English ones into a variable in the form of a set. Stopwords are commonly used words which are of importance to the respective sentence they're in. We then do a nested list comprehension (pretty cool) to find and exclude the stopwords in lyrics. "
   ]
  },
  {
   "cell_type": "markdown",
   "metadata": {},
   "source": [
    "### 4-) Lemmatization"
   ]
  },
  {
   "cell_type": "code",
   "execution_count": 128,
   "metadata": {},
   "outputs": [],
   "source": [
    "# Please run the code\n",
    "from nltk.stem import WordNetLemmatizer\n",
    "# Step 1\n",
    "lemmatizer = WordNetLemmatizer()\n",
    "# Step 2\n",
    "lemmatized = [[lemmatizer.lemmatize(i) for i in j] for j in stopped]\n",
    "# Step 3\n",
    "prepeared_sentence= [' '.join(j) for j in lemmatized]\n",
    "data['Lyrics_Processed'] = prepeared_sentence"
   ]
  },
  {
   "cell_type": "code",
   "execution_count": 129,
   "metadata": {},
   "outputs": [
    {
     "data": {
      "text/html": [
       "<div>\n",
       "<style scoped>\n",
       "    .dataframe tbody tr th:only-of-type {\n",
       "        vertical-align: middle;\n",
       "    }\n",
       "\n",
       "    .dataframe tbody tr th {\n",
       "        vertical-align: top;\n",
       "    }\n",
       "\n",
       "    .dataframe thead th {\n",
       "        text-align: right;\n",
       "    }\n",
       "</style>\n",
       "<table border=\"1\" class=\"dataframe\">\n",
       "  <thead>\n",
       "    <tr style=\"text-align: right;\">\n",
       "      <th></th>\n",
       "      <th>genre</th>\n",
       "      <th>lyrics</th>\n",
       "      <th>Artist</th>\n",
       "      <th>Song</th>\n",
       "      <th>Lyrics_Processed</th>\n",
       "    </tr>\n",
       "  </thead>\n",
       "  <tbody>\n",
       "    <tr>\n",
       "      <th>0</th>\n",
       "      <td>prog</td>\n",
       "      <td>i am just a new boy  stranger in this town   w...</td>\n",
       "      <td>Pink Floyd</td>\n",
       "      <td>Young Lust Lyrics</td>\n",
       "      <td>new boy stranger town good time gon na show st...</td>\n",
       "    </tr>\n",
       "    <tr>\n",
       "      <th>1</th>\n",
       "      <td>prog</td>\n",
       "      <td>eins  zwei  drei  alle  ooooh you cannot reach...</td>\n",
       "      <td>Pink Floyd</td>\n",
       "      <td>Waiting For The Worms Lyrics</td>\n",
       "      <td>eins zwei drei alle ooooh reach ooooh matter t...</td>\n",
       "    </tr>\n",
       "    <tr>\n",
       "      <th>2</th>\n",
       "      <td>prog</td>\n",
       "      <td>all alone  or in twos  the ones who really lov...</td>\n",
       "      <td>Pink Floyd</td>\n",
       "      <td>Outside The Wall Lyrics</td>\n",
       "      <td>alone two one really love walk outside wall ha...</td>\n",
       "    </tr>\n",
       "    <tr>\n",
       "      <th>3</th>\n",
       "      <td>prog</td>\n",
       "      <td>into the distance a ribbon of black  stretched...</td>\n",
       "      <td>Pink Floyd</td>\n",
       "      <td>Learning To Fly Lyrics</td>\n",
       "      <td>distance ribbon black stretched point turning ...</td>\n",
       "    </tr>\n",
       "    <tr>\n",
       "      <th>4</th>\n",
       "      <td>prog</td>\n",
       "      <td>you got to be crazy  gotta have a real need  g...</td>\n",
       "      <td>Pink Floyd</td>\n",
       "      <td>Dogs Lyrics</td>\n",
       "      <td>got crazy got ta real need got sleep toe stree...</td>\n",
       "    </tr>\n",
       "    <tr>\n",
       "      <th>...</th>\n",
       "      <td>...</td>\n",
       "      <td>...</td>\n",
       "      <td>...</td>\n",
       "      <td>...</td>\n",
       "      <td>...</td>\n",
       "    </tr>\n",
       "    <tr>\n",
       "      <th>825</th>\n",
       "      <td>pop</td>\n",
       "      <td>i don t know  that you want to try  evertime y...</td>\n",
       "      <td>Michael Jackson</td>\n",
       "      <td>Remember The Time Lyrics</td>\n",
       "      <td>know want try evertime see remember fell love ...</td>\n",
       "    </tr>\n",
       "    <tr>\n",
       "      <th>826</th>\n",
       "      <td>pop</td>\n",
       "      <td>girl  close your eyes  let that rhythm get int...</td>\n",
       "      <td>Michael Jackson</td>\n",
       "      <td>Rock With You Lyrics</td>\n",
       "      <td>girl close eye let rhythm get try fight nothin...</td>\n",
       "    </tr>\n",
       "    <tr>\n",
       "      <th>827</th>\n",
       "      <td>pop</td>\n",
       "      <td>help  i have done it again  i have been here m...</td>\n",
       "      <td>Sia</td>\n",
       "      <td>Breathe Me Lyrics</td>\n",
       "      <td>help done many time hurt today worst part one ...</td>\n",
       "    </tr>\n",
       "    <tr>\n",
       "      <th>828</th>\n",
       "      <td>pop</td>\n",
       "      <td>yeah  rihanna good girl gone bad  take three  ...</td>\n",
       "      <td>Rihanna</td>\n",
       "      <td>Umbrella Lyrics</td>\n",
       "      <td>yeah rihanna good girl gone bad take three act...</td>\n",
       "    </tr>\n",
       "    <tr>\n",
       "      <th>829</th>\n",
       "      <td>pop</td>\n",
       "      <td>work  work  work  work  work  work he said me ...</td>\n",
       "      <td>Rihanna</td>\n",
       "      <td>Work Lyrics</td>\n",
       "      <td>work work work work work work said haffi work ...</td>\n",
       "    </tr>\n",
       "  </tbody>\n",
       "</table>\n",
       "<p>830 rows × 5 columns</p>\n",
       "</div>"
      ],
      "text/plain": [
       "    genre                                             lyrics           Artist  \\\n",
       "0    prog  i am just a new boy  stranger in this town   w...       Pink Floyd   \n",
       "1    prog  eins  zwei  drei  alle  ooooh you cannot reach...       Pink Floyd   \n",
       "2    prog  all alone  or in twos  the ones who really lov...       Pink Floyd   \n",
       "3    prog  into the distance a ribbon of black  stretched...       Pink Floyd   \n",
       "4    prog  you got to be crazy  gotta have a real need  g...       Pink Floyd   \n",
       "..    ...                                                ...              ...   \n",
       "825   pop  i don t know  that you want to try  evertime y...  Michael Jackson   \n",
       "826   pop  girl  close your eyes  let that rhythm get int...  Michael Jackson   \n",
       "827   pop  help  i have done it again  i have been here m...              Sia   \n",
       "828   pop  yeah  rihanna good girl gone bad  take three  ...          Rihanna   \n",
       "829   pop  work  work  work  work  work  work he said me ...          Rihanna   \n",
       "\n",
       "                             Song  \\\n",
       "0               Young Lust Lyrics   \n",
       "1    Waiting For The Worms Lyrics   \n",
       "2         Outside The Wall Lyrics   \n",
       "3          Learning To Fly Lyrics   \n",
       "4                     Dogs Lyrics   \n",
       "..                            ...   \n",
       "825      Remember The Time Lyrics   \n",
       "826          Rock With You Lyrics   \n",
       "827             Breathe Me Lyrics   \n",
       "828               Umbrella Lyrics   \n",
       "829                   Work Lyrics   \n",
       "\n",
       "                                      Lyrics_Processed  \n",
       "0    new boy stranger town good time gon na show st...  \n",
       "1    eins zwei drei alle ooooh reach ooooh matter t...  \n",
       "2    alone two one really love walk outside wall ha...  \n",
       "3    distance ribbon black stretched point turning ...  \n",
       "4    got crazy got ta real need got sleep toe stree...  \n",
       "..                                                 ...  \n",
       "825  know want try evertime see remember fell love ...  \n",
       "826  girl close eye let rhythm get try fight nothin...  \n",
       "827  help done many time hurt today worst part one ...  \n",
       "828  yeah rihanna good girl gone bad take three act...  \n",
       "829  work work work work work work said haffi work ...  \n",
       "\n",
       "[830 rows x 5 columns]"
      ]
     },
     "execution_count": 129,
     "metadata": {},
     "output_type": "execute_result"
    }
   ],
   "source": [
    "data"
   ]
  },
  {
   "cell_type": "markdown",
   "metadata": {},
   "source": [
    "#### a.Explain what above code cell does step by step and why you run it. "
   ]
  },
  {
   "cell_type": "markdown",
   "metadata": {},
   "source": [
    "We grouped together inflected forms of all the lyrics into one using the *WordNetLemmatizer* provided by *nltk.stem*. The *Lyrics_Processed* column will help us in the next task where we will vectorize the lyrics."
   ]
  },
  {
   "cell_type": "markdown",
   "metadata": {},
   "source": [
    "#### b.Explain why lemmatization is used for."
   ]
  },
  {
   "cell_type": "markdown",
   "metadata": {},
   "source": [
    "Lemmatization is a form of processing in linguistics where inflected forms of a word are grouped under their raw form."
   ]
  },
  {
   "cell_type": "markdown",
   "metadata": {},
   "source": [
    "#### c. Which method can be used instead of Lemmatization method and explain differences."
   ]
  },
  {
   "cell_type": "markdown",
   "metadata": {},
   "source": [
    "One other method to use for grouping inflected forms of a word under their more primitive forms is **stemming**. Stemming differs from lemmatization in the way that when a word is processed under it only the attached part is dropped e.g. having -> hav whereas if it was processed using lemmatization it would've been having -> have."
   ]
  },
  {
   "cell_type": "markdown",
   "metadata": {},
   "source": [
    "### 5-) Vectorization"
   ]
  },
  {
   "cell_type": "code",
   "execution_count": 130,
   "metadata": {},
   "outputs": [],
   "source": [
    "# Please run the code\n",
    "from sklearn.feature_extraction.text import CountVectorizer\n",
    "#Step 1\n",
    "vectorizer = CountVectorizer()\n",
    "#Step 2\n",
    "X = vectorizer.fit_transform(prepeared_sentence)\n",
    "#Step 3\n",
    "feature_names = vectorizer.get_feature_names()\n",
    "#Step 4\n",
    "lyrics_vectorized = pd.DataFrame(X.toarray(), columns = feature_names)"
   ]
  },
  {
   "cell_type": "markdown",
   "metadata": {},
   "source": [
    "#### a.Explain what above code cell does step by step and why you run it. "
   ]
  },
  {
   "cell_type": "markdown",
   "metadata": {},
   "source": [
    "In the first step, we assigned the CountVectorizer() function, which we imported from the sklearn library, to the vectorizer variable. In step 2, we vectorized the previously edited sentences with vectorizer.fit_transform(). In step 3, we assigned the name of the vector variables to featue_names with get_feature_names(). In step 4, we converted the vectors to Dataframe with their names."
   ]
  },
  {
   "cell_type": "markdown",
   "metadata": {},
   "source": [
    "#### b.Explain why countvectorizer is used for."
   ]
  },
  {
   "cell_type": "markdown",
   "metadata": {},
   "source": [
    "Countvectorizer is used to transform a given text into a vector on the basis of the frequency (count) of each word that occurs in the entire text. This way we can process texts in machine learning models"
   ]
  },
  {
   "cell_type": "markdown",
   "metadata": {},
   "source": [
    "#### c. Google \"TF-IDF Vectorization\". Briefly explain the differences from Count Vectorazation."
   ]
  },
  {
   "cell_type": "markdown",
   "metadata": {},
   "source": [
    "In CountVectorizer we only count the number of times a word appears in the document which results in biasing in favour of most frequent words. This ends up in ignoring rare words which could have helped is in processing our data more efficiently .we can use TF-IDF to avoid this. TF-IDF Vectorization consists of 2 parts, TF (Term Frequency) multiplied with IDF (Inverse Document Frequency).We penalize common words while identifying important words in this manner."
   ]
  },
  {
   "cell_type": "markdown",
   "metadata": {},
   "source": [
    "### 6-) Target Preperation"
   ]
  },
  {
   "cell_type": "markdown",
   "metadata": {},
   "source": [
    "Run cells below,"
   ]
  },
  {
   "cell_type": "code",
   "execution_count": 131,
   "metadata": {},
   "outputs": [
    {
     "data": {
      "text/plain": [
       "0      prog\n",
       "1      prog\n",
       "2      prog\n",
       "3      prog\n",
       "4      prog\n",
       "       ... \n",
       "825     pop\n",
       "826     pop\n",
       "827     pop\n",
       "828     pop\n",
       "829     pop\n",
       "Name: genre, Length: 830, dtype: object"
      ]
     },
     "execution_count": 131,
     "metadata": {},
     "output_type": "execute_result"
    }
   ],
   "source": [
    "data.genre"
   ]
  },
  {
   "cell_type": "code",
   "execution_count": 132,
   "metadata": {},
   "outputs": [
    {
     "data": {
      "text/plain": [
       "0      1\n",
       "1      1\n",
       "2      1\n",
       "3      1\n",
       "4      1\n",
       "      ..\n",
       "825    0\n",
       "826    0\n",
       "827    0\n",
       "828    0\n",
       "829    0\n",
       "Name: genre, Length: 830, dtype: int64"
      ]
     },
     "execution_count": 132,
     "metadata": {},
     "output_type": "execute_result"
    }
   ],
   "source": [
    "y = data.genre.map({'prog':1,'pop':0})\n",
    "y"
   ]
  },
  {
   "cell_type": "markdown",
   "metadata": {},
   "source": [
    "Variable y is a single line target preperation step seen above. By looking at that output y, rewrite that target creation step\n",
    "by using <a href = 'https://scikit-learn.org/stable/modules/generated/sklearn.preprocessing.OneHotEncoder.html'>\n",
    "OneHotEnconder()</a> \n",
    " function.\n"
   ]
  },
  {
   "cell_type": "code",
   "execution_count": 193,
   "metadata": {
    "collapsed": true
   },
   "outputs": [
    {
     "data": {
      "text/html": [
       "<div>\n",
       "<style scoped>\n",
       "    .dataframe tbody tr th:only-of-type {\n",
       "        vertical-align: middle;\n",
       "    }\n",
       "\n",
       "    .dataframe tbody tr th {\n",
       "        vertical-align: top;\n",
       "    }\n",
       "\n",
       "    .dataframe thead th {\n",
       "        text-align: right;\n",
       "    }\n",
       "</style>\n",
       "<table border=\"1\" class=\"dataframe\">\n",
       "  <thead>\n",
       "    <tr style=\"text-align: right;\">\n",
       "      <th></th>\n",
       "      <th>0</th>\n",
       "    </tr>\n",
       "  </thead>\n",
       "  <tbody>\n",
       "    <tr>\n",
       "      <th>0</th>\n",
       "      <td>1.0</td>\n",
       "    </tr>\n",
       "    <tr>\n",
       "      <th>1</th>\n",
       "      <td>1.0</td>\n",
       "    </tr>\n",
       "    <tr>\n",
       "      <th>2</th>\n",
       "      <td>1.0</td>\n",
       "    </tr>\n",
       "    <tr>\n",
       "      <th>3</th>\n",
       "      <td>1.0</td>\n",
       "    </tr>\n",
       "    <tr>\n",
       "      <th>4</th>\n",
       "      <td>1.0</td>\n",
       "    </tr>\n",
       "    <tr>\n",
       "      <th>...</th>\n",
       "      <td>...</td>\n",
       "    </tr>\n",
       "    <tr>\n",
       "      <th>825</th>\n",
       "      <td>0.0</td>\n",
       "    </tr>\n",
       "    <tr>\n",
       "      <th>826</th>\n",
       "      <td>0.0</td>\n",
       "    </tr>\n",
       "    <tr>\n",
       "      <th>827</th>\n",
       "      <td>0.0</td>\n",
       "    </tr>\n",
       "    <tr>\n",
       "      <th>828</th>\n",
       "      <td>0.0</td>\n",
       "    </tr>\n",
       "    <tr>\n",
       "      <th>829</th>\n",
       "      <td>0.0</td>\n",
       "    </tr>\n",
       "  </tbody>\n",
       "</table>\n",
       "<p>830 rows × 1 columns</p>\n",
       "</div>"
      ],
      "text/plain": [
       "       0\n",
       "0    1.0\n",
       "1    1.0\n",
       "2    1.0\n",
       "3    1.0\n",
       "4    1.0\n",
       "..   ...\n",
       "825  0.0\n",
       "826  0.0\n",
       "827  0.0\n",
       "828  0.0\n",
       "829  0.0\n",
       "\n",
       "[830 rows x 1 columns]"
      ]
     },
     "execution_count": 193,
     "metadata": {},
     "output_type": "execute_result"
    }
   ],
   "source": [
    "## Code here\n",
    "\n",
    "from sklearn import preprocessing\n",
    "label_encoder = preprocessing.LabelEncoder()\n",
    "  \n",
    "\n",
    "from sklearn.preprocessing import OneHotEncoder\n",
    "from numpy import array\n",
    "\n",
    "onehot_encoder = OneHotEncoder(sparse= False , drop = \"first\")\n",
    "\n",
    "genre = array(data.genre)\n",
    "genre = genre.reshape(len(genre), 1)\n",
    "onehot_encode_genre = pd.DataFrame(onehot_encoder.fit_transform(genre))\n",
    "\n",
    "onehot_encode_genre\n"
   ]
  },
  {
   "cell_type": "markdown",
   "metadata": {},
   "source": [
    "## PART II : Exploratory Data Analysis "
   ]
  },
  {
   "cell_type": "markdown",
   "metadata": {},
   "source": [
    "Please, perform exploratory data analysis and share your findings. This <a href=\"https://neptune.ai/blog/exploratory-data-analysis-natural-language-processing-tools\">link </a> can be useful."
   ]
  },
  {
   "cell_type": "code",
   "execution_count": 194,
   "metadata": {},
   "outputs": [
    {
     "data": {
      "text/plain": [
       "<AxesSubplot: >"
      ]
     },
     "execution_count": 194,
     "metadata": {},
     "output_type": "execute_result"
    },
    {
     "data": {
      "image/png": "[encoded data removed]",
      "text/plain": [
       "<Figure size 640x480 with 1 Axes>"
      ]
     },
     "metadata": {},
     "output_type": "display_data"
    }
   ],
   "source": [
    "lp = data['Lyrics_Processed']\n",
    "lp.str.len().hist(bins=20)"
   ]
  },
  {
   "cell_type": "markdown",
   "metadata": {},
   "source": [
    "Distribution of number of letters in lyrics post-processed seems to be distributed somewhat similar to Gamma Dist. with a mean that is slightly smaller than 600 letters."
   ]
  },
  {
   "cell_type": "code",
   "execution_count": 195,
   "metadata": {},
   "outputs": [
    {
     "data": {
      "text/plain": [
       "<AxesSubplot: >"
      ]
     },
     "execution_count": 195,
     "metadata": {},
     "output_type": "execute_result"
    },
    {
     "data": {
      "image/png": "[encoded data removed]",
      "text/plain": [
       "<Figure size 640x480 with 1 Axes>"
      ]
     },
     "metadata": {},
     "output_type": "display_data"
    }
   ],
   "source": [
    "lp.str.split().map(lambda x: len(x)).hist(bins=20)"
   ]
  },
  {
   "cell_type": "markdown",
   "metadata": {},
   "source": [
    "The case with the number of words in respective lyrics is quite similar. The histogram resembles a Gamma Dist. with a mean that is slightly less than 100. (1 word ~= 6 letters might be another takeaway from this analysis)"
   ]
  },
  {
   "cell_type": "code",
   "execution_count": 196,
   "metadata": {},
   "outputs": [
    {
     "data": {
      "text/plain": [
       "<AxesSubplot: >"
      ]
     },
     "execution_count": 196,
     "metadata": {},
     "output_type": "execute_result"
    },
    {
     "data": {
      "image/png": "[encoded data removed]",
      "text/plain": [
       "<Figure size 640x480 with 1 Axes>"
      ]
     },
     "metadata": {},
     "output_type": "display_data"
    }
   ],
   "source": [
    "from collections import Counter\n",
    "import seaborn as sns\n",
    "\n",
    "stopped_flat = [word for lyrics in stopped for word in lyrics]\n",
    "\n",
    "counter = Counter(stopped_flat)\n",
    "most = counter.most_common()\n",
    "\n",
    "x = [i[1] for i in most]\n",
    "y = [i[0] for i in most]\n",
    "\n",
    "x = x[:30]\n",
    "y = y[:30]\n",
    "\n",
    "sns.barplot(x=x, y=y)"
   ]
  },
  {
   "cell_type": "markdown",
   "metadata": {},
   "source": [
    "As it can be seen from the bar chart there is a theme of love in the songs we are inspecting (Love is in the air?). To get a better feel for the context we can look at how frequently some words are used in conjunction with others. This is called ngram exploration. However the context seems to be trivial in this case so there is no need for further exploration."
   ]
  },
  {
   "cell_type": "code",
   "execution_count": 197,
   "metadata": {},
   "outputs": [],
   "source": [
    "import gensim\n",
    "corp = [s.split() for s in prepeared_sentence]\n",
    "dic = gensim.corpora.Dictionary(corp)\n",
    "bc = [dic.doc2bow(doc) for doc in corp]"
   ]
  },
  {
   "cell_type": "code",
   "execution_count": 198,
   "metadata": {},
   "outputs": [
    {
     "data": {
      "text/plain": [
       "[(0,\n",
       "  '0.011*\"love\" + 0.010*\"time\" + 0.009*\"make\" + 0.008*\"see\" + 0.008*\"one\" + 0.008*\"away\" + 0.007*\"day\" + 0.007*\"like\" + 0.007*\"feel\" + 0.007*\"know\"'),\n",
       " (1,\n",
       "  '0.021*\"baby\" + 0.020*\"like\" + 0.017*\"na\" + 0.016*\"yeah\" + 0.016*\"get\" + 0.015*\"know\" + 0.014*\"got\" + 0.011*\"love\" + 0.010*\"wan\" + 0.010*\"want\"'),\n",
       " (2,\n",
       "  '0.020*\"love\" + 0.016*\"na\" + 0.014*\"baby\" + 0.010*\"oh\" + 0.010*\"girl\" + 0.010*\"know\" + 0.009*\"ooh\" + 0.009*\"gon\" + 0.009*\"like\" + 0.009*\"let\"'),\n",
       " (3,\n",
       "  '0.042*\"oh\" + 0.025*\"love\" + 0.020*\"la\" + 0.016*\"got\" + 0.013*\"night\" + 0.008*\"like\" + 0.008*\"want\" + 0.007*\"baby\" + 0.006*\"heart\" + 0.006*\"know\"')]"
      ]
     },
     "execution_count": 198,
     "metadata": {},
     "output_type": "execute_result"
    }
   ],
   "source": [
    "lda_model = gensim.models.LdaMulticore(bc, \n",
    "                                   num_topics = 4, \n",
    "                                   id2word = dic,                                    \n",
    "                                   passes = 10,\n",
    "                                   workers = 2)\n",
    "lda_model.show_topics()"
   ]
  },
  {
   "cell_type": "code",
   "execution_count": 199,
   "metadata": {},
   "outputs": [
    {
     "name": "stderr",
     "output_type": "stream",
     "text": [
      "/usr/local/lib/python3.10/site-packages/past/builtins/misc.py:45: DeprecationWarning: the imp module is deprecated in favour of importlib and slated for removal in Python 3.12; see the module's documentation for alternative uses\n",
      "  from imp import reload\n",
      "/usr/local/lib/python3.10/site-packages/past/builtins/misc.py:45: DeprecationWarning: the imp module is deprecated in favour of importlib and slated for removal in Python 3.12; see the module's documentation for alternative uses\n",
      "  from imp import reload\n",
      "/usr/local/lib/python3.10/site-packages/past/builtins/misc.py:45: DeprecationWarning: the imp module is deprecated in favour of importlib and slated for removal in Python 3.12; see the module's documentation for alternative uses\n",
      "  from imp import reload\n",
      "/usr/local/lib/python3.10/site-packages/past/builtins/misc.py:45: DeprecationWarning: the imp module is deprecated in favour of importlib and slated for removal in Python 3.12; see the module's documentation for alternative uses\n",
      "  from imp import reload\n"
     ]
    },
    {
     "data": {
      "text/html": [
       "\n",
       "<link rel=\"stylesheet\" type=\"text/css\" href=\"https://cdn.jsdelivr.net/gh/bmabey/pyLDAvis@3.3.1/pyLDAvis/js/ldavis.v1.0.0.css\">\n",
       "\n",
       "\n",
       "<div id=\"ldavis_el134856500322089468710807\"></div>\n",
       "<script type=\"text/javascript\">\n",
       "\n",
       "var ldavis_el134856500322089468710807_data = {\"mdsDat\": {\"x\": [-0.11193597317793447, 0.038673411787056355, -0.0039181625279139645, 0.077180723918792], \"y\": [0.04111623100169483, 0.03179366116813689, -0.11097629860100497, 0.03806640643117324], \"topics\": [1, 2, 3, 4], \"cluster\": [1, 1, 1, 1], \"Freq\": [33.60449326393446, 27.533891159534583, 20.12288123121406, 18.738734345316896]}, \"tinfo\": {\"Term\": [\"oh\", \"la\", \"na\", \"baby\", \"love\", \"ooh\", \"eh\", \"night\", \"got\", \"phresh\", \"dance\", \"gon\", \"ho\", \"work\", \"rock\", \"cake\", \"wan\", \"ah\", \"yeah\", \"remember\", \"girl\", \"mine\", \"gim\", \"like\", \"da\", \"tick\", \"christmas\", \"boy\", \"di\", \"gangsta\", \"phresh\", \"annie\", \"p\", \"illusion\", \"scary\", \"artpop\", \"runway\", \"aahh\", \"ache\", \"smarty\", \"deet\", \"ok\", \"holland\", \"jane\", \"river\", \"witchu\", \"chillin\", \"forgotten\", \"cast\", \"xscape\", \"alternate\", \"prerogative\", \"comfort\", \"anderson\", \"satisfied\", \"somme\", \"nous\", \"du\", \"soleil\", \"relayer\", \"movement\", \"phonography\", \"force\", \"diana\", \"message\", \"crash\", \"cha\", \"bang\", \"stupid\", \"moment\", \"gone\", \"edge\", \"worry\", \"applause\", \"ee\", \"dirty\", \"sad\", \"lift\", \"away\", \"day\", \"seen\", \"wind\", \"time\", \"light\", \"song\", \"eye\", \"rhythm\", \"make\", \"run\", \"world\", \"see\", \"home\", \"face\", \"move\", \"one\", \"give\", \"lie\", \"life\", \"feel\", \"way\", \"talk\", \"turn\", \"come\", \"could\", \"love\", \"sun\", \"want\", \"go\", \"u\", \"get\", \"know\", \"let\", \"like\", \"say\", \"tell\", \"never\", \"yeah\", \"take\", \"tick\", \"sa\", \"coo\", \"thong\", \"dirt\", \"ovum\", \"bump\", \"startin\", \"pressurin\", \"somethin\", \"marry\", \"bos\", \"oops\", \"se\", \"hooker\", \"groupie\", \"aaaaaaaaah\", \"oooooo\", \"toxic\", \"morphine\", \"shi\", \"funk\", \"soda\", \"demerol\", \"ner\", \"charade\", \"haaaauh\", \"whooah\", \"national\", \"disaster\", \"work\", \"anthem\", \"clock\", \"oxygen\", \"downtown\", \"bop\", \"almost\", \"farewell\", \"goin\", \"clap\", \"bitch\", \"yeah\", \"baby\", \"trip\", \"shot\", \"like\", \"stop\", \"na\", \"get\", \"wan\", \"know\", \"drive\", \"party\", \"got\", \"better\", \"please\", \"beat\", \"want\", \"come\", \"take\", \"hoo\", \"cause\", \"go\", \"let\", \"feel\", \"man\", \"boy\", \"body\", \"love\", \"gon\", \"feeling\", \"make\", \"good\", \"see\", \"oh\", \"life\", \"one\", \"tell\", \"cake\", \"luv\", \"ho\", \"jam\", \"stamen\", \"owner\", \"sandal\", \"santa\", \"cane\", \"greatest\", \"ultraviolence\", \"pound\", \"birthday\", \"christmas\", \"elastic\", \"unstoppable\", \"sentimental\", \"puppy\", \"gasoline\", \"amy\", \"frying\", \"diet\", \"misfit\", \"limb\", \"blackest\", \"fallin\", \"lsd\", \"dew\", \"blinding\", \"lane\", \"ohh\", \"la\", \"fashion\", \"romance\", \"diggin\", \"oh\", \"dan\", \"fame\", \"happen\", \"night\", \"yes\", \"fine\", \"eat\", \"love\", \"got\", \"waiting\", \"cry\", \"disco\", \"heart\", \"da\", \"good\", \"little\", \"boy\", \"thought\", \"never\", \"want\", \"really\", \"look\", \"like\", \"keep\", \"light\", \"u\", \"need\", \"baby\", \"take\", \"know\", \"na\", \"come\", \"give\", \"see\", \"get\", \"yeah\", \"wan\", \"gim\", \"gangsta\", \"womanizer\", \"alejandro\", \"papa\", \"ella\", \"que\", \"amor\", \"umbrella\", \"pinot\", \"baba\", \"bababa\", \"j\", \"doggone\", \"doot\", \"ale\", \"uoohh\", \"robin\", \"di\", \"undercover\", \"retro\", \"b\", \"eres\", \"todo\", \"te\", \"thundercloud\", \"clegg\", \"layne\", \"arnold\", \"rockstar\", \"mmm\", \"eh\", \"hollywood\", \"rock\", \"yayo\", \"ooh\", \"remember\", \"chord\", \"dance\", \"n\", \"mine\", \"ah\", \"million\", \"gon\", \"ya\", \"girl\", \"na\", \"michael\", \"babe\", \"hey\", \"love\", \"blue\", \"baby\", \"need\", \"way\", \"let\", \"da\", \"wan\", \"know\", \"say\", \"one\", \"oh\", \"like\", \"time\", \"take\", \"never\", \"go\", \"get\", \"got\", \"make\", \"cause\"], \"Freq\": [1413.0, 521.0, 988.0, 1092.0, 1655.0, 252.0, 171.0, 527.0, 1006.0, 196.0, 231.0, 382.0, 124.0, 222.0, 165.0, 111.0, 547.0, 220.0, 806.0, 145.0, 452.0, 193.0, 84.0, 1220.0, 138.0, 95.0, 83.0, 344.0, 75.0, 65.0, 195.3865346547177, 44.57052731303984, 38.734897174582706, 30.042282738173995, 29.088720157427083, 24.313247664500462, 95.34797628987008, 20.392729301052917, 25.896994611151936, 17.54497600787482, 17.52129222682154, 56.89155519165831, 14.6636167183676, 14.66325784102536, 85.18690584565547, 14.646686839012514, 14.646267440935043, 14.643357136807587, 20.122055090690207, 27.441923345873526, 13.684244698463372, 12.72125574776259, 12.712081016655203, 23.595737186495654, 11.79010495086185, 12.673501702364387, 12.671742353973583, 12.671620250735838, 12.669506272071933, 11.763988660959244, 25.213394856686964, 18.05862292014153, 28.67742336433961, 23.368608176014458, 19.823097523396743, 37.522724183362236, 42.54863360220454, 62.01476921154279, 22.17906356916624, 81.6964775562352, 175.16476050417984, 34.04452320599296, 34.901331181151185, 26.06944473000389, 29.086526546216824, 79.63107686914063, 59.39737270139148, 34.22331207553478, 277.9295125493109, 267.5217978119217, 76.3503858420776, 62.04544154486419, 382.16093046260585, 230.17837214639798, 92.27731132586575, 232.6384954392653, 51.562477236471295, 346.554793910779, 134.88700928814993, 195.36642053527572, 303.2894588972406, 110.82905294959095, 106.14927541850284, 111.55824923833153, 293.94454772945545, 207.77555811025056, 87.54608479922857, 223.89552987467994, 250.67945055178888, 237.3137201122365, 108.07691817100687, 135.68975632023862, 237.3962491597443, 154.46648218452984, 395.34284774982507, 110.00104435026384, 235.1811477796405, 207.2778016071672, 145.70724185100406, 240.19377661328534, 247.0458620558333, 197.87292182314025, 255.9578100073187, 157.87015134557993, 138.68284431935112, 153.75419772510048, 171.48815769198515, 150.33681902486992, 95.0941604501606, 78.96441598457969, 39.60642792530405, 29.27267062977091, 27.437828045523013, 25.58701646464789, 27.287187409328983, 20.847791304788263, 19.887133841201216, 39.71504424513967, 40.54555734408082, 18.923161827758552, 18.899890381921857, 42.17216094125783, 37.60425886070706, 15.19657253693834, 14.288498971375711, 14.287563763739284, 13.367795317938048, 12.438803549940156, 13.316404135885298, 11.502625907452128, 12.386050009600293, 11.501945598269163, 11.501616753165377, 11.498643227861832, 11.494644019020289, 11.482756877490846, 11.463839584417242, 25.43614093909401, 197.84231770518255, 20.829924054149235, 28.287095754907057, 20.79136218094709, 19.903626554104846, 18.939550145391138, 58.33042967473009, 32.79101049399313, 34.82089302320969, 34.69309581224108, 99.86924190578117, 477.6039665015049, 616.7885857967643, 53.14999182117621, 31.798329781013607, 602.5506297958641, 156.41447416740792, 494.68503723336283, 477.4613208031516, 287.0510555565927, 459.73937446204474, 52.92279987264744, 66.43575159520739, 405.36987188296655, 116.2680895413723, 76.68562033077265, 91.59939651798229, 285.4511632294333, 230.32263743302425, 222.22955411815556, 51.90017859593275, 166.97729904650623, 211.4642580907115, 219.30103013611512, 197.1203339300178, 134.45032159219298, 135.95357173710545, 112.98947949773112, 327.6304717669152, 142.55289791704186, 97.09380314919835, 175.00089686896862, 121.68783267473832, 155.7119218320267, 207.274486121406, 130.55184026783672, 126.55918048963012, 114.18319766400074, 109.11796176799116, 30.59836617595585, 120.90572781413897, 37.262411887308446, 19.886113271534963, 20.699880558985743, 18.09115539778547, 35.995568005450615, 14.5212814130683, 39.28665917518161, 13.59984353491739, 11.83445174367789, 11.82924452214426, 78.2897250545317, 10.920887642263546, 23.444147344237575, 10.03355929046626, 21.735415718344953, 16.725786306734193, 9.991846203389722, 9.158806474043047, 9.139852569142064, 9.137706736092493, 9.12573457718184, 9.11445671447567, 8.26534707984664, 8.251652532274862, 8.248587964778881, 9.044487297802359, 8.210944648769104, 29.781319419802937, 431.9492880650805, 28.664443518113643, 29.30428960634119, 13.690558547612778, 922.1813702007394, 15.72333576028389, 61.552929193697835, 34.04260433778067, 281.31616704622974, 74.57778357008273, 33.36775605665088, 41.952855785572105, 535.4200327033051, 338.76759609094364, 98.6387584129992, 126.93774272018116, 27.76964830310623, 139.07798743576728, 68.0919939586147, 120.24647703711945, 88.19850685532545, 111.74309317393549, 62.29277936746647, 127.55888604544982, 163.85849220822593, 90.79541880821132, 93.99854035994562, 182.15575566517583, 94.12928167598999, 96.66577714303807, 88.63104576109033, 101.87215433110043, 142.6156732889385, 112.69479270240565, 137.57207168428928, 129.48037240864028, 104.55995042011614, 92.36577948943888, 102.53242239193607, 101.38100970469038, 96.22280090532006, 88.8966077012816, 82.87311428397497, 63.77632531376228, 38.08333471277829, 29.999562359717018, 26.41499256346307, 22.77662738770314, 17.278076485032788, 15.530225173095172, 14.662601498410336, 14.643167429106963, 14.622588298566914, 14.621897946239113, 12.816240580122681, 12.771365310540064, 11.058061218437077, 11.049398066412737, 11.038797664974533, 11.031091296279289, 70.09725753882195, 10.14702468433229, 34.58460306445278, 67.6172041015379, 10.134163763865319, 10.13035202434012, 11.818667256797175, 10.10930752765114, 9.261194891225607, 9.247767360829215, 9.244274746436679, 10.918083106907648, 45.90587679768953, 147.80242034791164, 24.123172036525258, 133.08004475832624, 28.713818449528276, 192.2519308221829, 113.43057605557769, 15.519730159919703, 163.0805544282701, 34.097796916814936, 129.9816677263383, 143.9678222269399, 69.07487771306918, 180.8382825004526, 105.1811428265999, 202.52975418194666, 332.85707646384986, 27.276907509893483, 60.68668721861679, 48.99730530916372, 397.4309706768853, 70.38173006338721, 278.036915700688, 143.95627451527486, 168.41468779969665, 178.53201786083125, 67.56293269864292, 142.90151088941798, 200.32386653395997, 122.46068764248427, 153.53826062102453, 202.81491350642636, 179.4442207706528, 135.30363763445237, 126.12992329026095, 111.54340146030493, 119.64994241466802, 128.62795193909906, 128.14118605214588, 111.98275447040541, 92.06488436108971], \"Total\": [1413.0, 521.0, 988.0, 1092.0, 1655.0, 252.0, 171.0, 527.0, 1006.0, 196.0, 231.0, 382.0, 124.0, 222.0, 165.0, 111.0, 547.0, 220.0, 806.0, 145.0, 452.0, 193.0, 84.0, 1220.0, 138.0, 95.0, 83.0, 344.0, 75.0, 65.0, 196.55962603042533, 45.26049922646091, 39.47420984832507, 30.797258051375785, 29.833090049871075, 25.017638854432626, 98.12170728406737, 21.15989893682792, 26.927707856152065, 18.269622646531474, 18.268649242683292, 59.6155809751191, 15.378199914388812, 15.378253588791322, 89.35405066810794, 15.377843768793284, 15.377911742528548, 15.377103287342976, 21.14188076019959, 28.853491575838834, 14.413461450586295, 13.450027502381193, 13.448486426225095, 24.970689039243762, 12.487192260845767, 13.447521518845134, 13.44714937719852, 13.447195205367809, 13.446962587088846, 12.486018504633432, 26.871063034068687, 19.220231089836794, 30.74657952583218, 24.955916316865316, 21.140455492109318, 41.17750179239585, 46.94768027518663, 69.89389459251453, 23.972506327426075, 97.30843363545918, 225.77467670307274, 38.27891228702144, 39.34381153730249, 28.764576605863116, 32.651237805110426, 102.32607759835861, 73.6088606884826, 39.280722343664785, 438.78127420798154, 424.08714341782, 99.85178494261363, 80.05216464043772, 701.1416968854165, 388.1787904592204, 129.90674799762465, 407.27761821765625, 64.79647881617197, 710.7663091117698, 216.62020473213445, 359.7241578087311, 643.7940550539321, 174.4866161313243, 167.65290171188516, 179.26083681981694, 655.9036415210627, 413.3798396995473, 130.74889565078374, 480.8104124814547, 566.7175260406565, 572.2732628281773, 180.75328088346254, 255.8061431024099, 636.1665139072594, 322.82620496199354, 1655.8243228969309, 192.6231654840641, 767.6632959522591, 611.3269893072769, 323.82296173913244, 947.6640590602264, 1044.6811747361273, 669.7971509359982, 1220.1084162390116, 425.8994000666785, 330.7823140337931, 457.21963575193524, 806.0354076097689, 611.3910891356921, 95.81223023238715, 79.84374215487388, 40.38260252549507, 30.046944095750742, 28.16630414935203, 26.288768160690836, 28.16135710604164, 21.59201120804272, 20.6521346877408, 41.331445820231096, 42.21888796101182, 19.709472406312145, 19.713482060209316, 44.10504263824798, 39.46374957942394, 15.952064225201589, 15.01432879648132, 15.014416563210265, 14.074612611980788, 13.135479885428243, 14.072223717960194, 12.19599844347254, 13.133085361268739, 12.19604032893091, 12.195963807670294, 12.195925611416634, 12.19598584989213, 12.195773754355384, 12.195652184412745, 27.24191062650159, 222.29432517863148, 22.482313757859227, 30.966954504682093, 22.552926572791957, 21.605918687506524, 20.61006531984204, 67.62903955396222, 37.3937144719518, 40.25219914736275, 40.14375576188486, 131.7104157465428, 806.0354076097689, 1092.913894602528, 67.20968321195942, 37.43739598454382, 1220.1084162390116, 247.2124809914474, 988.415065017784, 947.6640590602264, 547.7934217538202, 1044.6811747361273, 71.29800060864858, 96.04300189854182, 1006.3372469962417, 201.5541317491587, 116.30251764259891, 147.68965941098978, 767.6632959522591, 636.1665139072594, 611.3910891356921, 72.65814656662678, 421.3300948235805, 611.3269893072769, 669.7971509359982, 566.7175260406565, 327.3019385811961, 344.7608660391508, 250.05015658584833, 1655.8243228969309, 382.5625134068373, 202.2983420895625, 710.7663091117698, 337.5188102103634, 643.7940550539321, 1413.3621504563062, 480.8104124814547, 655.9036415210627, 330.7823140337931, 111.02663088887789, 31.339172741187742, 124.5042756440706, 38.52322499052254, 20.603127059333136, 21.498606538859093, 18.81453577228116, 37.64151447134856, 15.235808962820078, 41.26257318703069, 14.34238838468886, 12.552292072350845, 12.5519136222904, 83.50677423695052, 11.65843479556461, 25.083202034242465, 10.764044319960597, 23.322749019462535, 17.954420289502007, 10.763555584909577, 9.868120955949102, 9.868392747035783, 9.868510436086808, 9.868753345526251, 9.868334156803268, 8.973735192518056, 8.974469348725412, 8.97396619170972, 9.872392937576672, 8.976864728436695, 33.24957738256424, 521.6804824451788, 32.2628015303723, 33.22411457879761, 15.293026250879558, 1413.3621504563062, 17.93294869664985, 80.54175043341012, 44.34938466531925, 527.9519946059507, 122.95238481181252, 46.28425033036488, 63.548521292022755, 1655.8243228969309, 1006.3372469962417, 205.9066199057785, 295.2084376788354, 38.60556029238819, 373.72600593672314, 138.67882557108823, 337.5188102103634, 212.84250852421144, 344.7608660391508, 134.93690281206426, 457.21963575193524, 767.6632959522591, 275.94087533370504, 302.9625850399809, 1220.1084162390116, 333.72582067555334, 388.1787904592204, 323.82296173913244, 446.4903713527255, 1092.913894602528, 611.3910891356921, 1044.6811747361273, 988.415065017784, 636.1665139072594, 413.3798396995473, 643.7940550539321, 947.6640590602264, 806.0354076097689, 547.7934217538202, 84.11953195378538, 65.13923416876938, 38.90310610800476, 30.761928359718663, 27.14349160723632, 23.527718813758682, 18.108147011365404, 16.29535184554996, 15.39012688010446, 15.391876855237788, 15.390716866550875, 15.390744710578764, 13.580596073338885, 13.58472454721457, 11.773840478309229, 11.77343763162334, 11.774218710211304, 11.77442986071017, 75.02169652103251, 10.869119492500086, 37.067434020042356, 72.47500099634638, 10.869483773716905, 10.869618157758659, 12.686127087381557, 10.871949583055367, 9.964716285218183, 9.965270022976066, 9.96538960668359, 11.777787147531651, 49.758087158211836, 171.73825158455858, 27.160228602129038, 165.64009286813092, 32.68799436222872, 252.07840696199088, 145.1161278842747, 17.18795562779848, 231.0996931280468, 40.91692082274915, 193.12897066774735, 220.87946448865625, 95.39307296194136, 382.5625134068373, 195.1879371210518, 452.4848452331387, 988.415065017784, 36.28053292793103, 112.48694332317964, 83.78974670361823, 1655.8243228969309, 142.37433234819736, 1092.913894602528, 446.4903713527255, 572.2732628281773, 669.7971509359982, 138.67882557108823, 547.7934217538202, 1044.6811747361273, 425.8994000666785, 655.9036415210627, 1413.3621504563062, 1220.1084162390116, 701.1416968854165, 611.3910891356921, 457.21963575193524, 611.3269893072769, 947.6640590602264, 1006.3372469962417, 710.7663091117698, 421.3300948235805], \"Category\": [\"Default\", \"Default\", \"Default\", \"Default\", \"Default\", \"Default\", \"Default\", \"Default\", \"Default\", \"Default\", \"Default\", \"Default\", \"Default\", \"Default\", \"Default\", \"Default\", \"Default\", \"Default\", \"Default\", \"Default\", \"Default\", \"Default\", \"Default\", \"Default\", \"Default\", \"Default\", \"Default\", \"Default\", \"Default\", \"Default\", \"Topic1\", \"Topic1\", \"Topic1\", \"Topic1\", \"Topic1\", \"Topic1\", \"Topic1\", \"Topic1\", \"Topic1\", \"Topic1\", \"Topic1\", \"Topic1\", \"Topic1\", \"Topic1\", \"Topic1\", \"Topic1\", \"Topic1\", \"Topic1\", \"Topic1\", \"Topic1\", \"Topic1\", \"Topic1\", \"Topic1\", \"Topic1\", \"Topic1\", \"Topic1\", \"Topic1\", \"Topic1\", \"Topic1\", \"Topic1\", \"Topic1\", \"Topic1\", \"Topic1\", \"Topic1\", \"Topic1\", \"Topic1\", \"Topic1\", \"Topic1\", \"Topic1\", \"Topic1\", \"Topic1\", \"Topic1\", \"Topic1\", \"Topic1\", \"Topic1\", \"Topic1\", \"Topic1\", \"Topic1\", \"Topic1\", \"Topic1\", \"Topic1\", \"Topic1\", \"Topic1\", \"Topic1\", \"Topic1\", \"Topic1\", \"Topic1\", \"Topic1\", \"Topic1\", \"Topic1\", \"Topic1\", \"Topic1\", \"Topic1\", \"Topic1\", \"Topic1\", \"Topic1\", \"Topic1\", \"Topic1\", \"Topic1\", \"Topic1\", \"Topic1\", \"Topic1\", \"Topic1\", \"Topic1\", \"Topic1\", \"Topic1\", \"Topic1\", \"Topic1\", \"Topic1\", \"Topic1\", \"Topic1\", \"Topic1\", \"Topic1\", \"Topic1\", \"Topic1\", \"Topic1\", \"Topic1\", \"Topic1\", \"Topic2\", \"Topic2\", \"Topic2\", \"Topic2\", \"Topic2\", \"Topic2\", \"Topic2\", \"Topic2\", \"Topic2\", \"Topic2\", \"Topic2\", \"Topic2\", \"Topic2\", \"Topic2\", \"Topic2\", \"Topic2\", \"Topic2\", \"Topic2\", \"Topic2\", \"Topic2\", \"Topic2\", \"Topic2\", \"Topic2\", \"Topic2\", \"Topic2\", \"Topic2\", \"Topic2\", \"Topic2\", \"Topic2\", \"Topic2\", \"Topic2\", \"Topic2\", \"Topic2\", \"Topic2\", \"Topic2\", \"Topic2\", \"Topic2\", \"Topic2\", \"Topic2\", \"Topic2\", \"Topic2\", \"Topic2\", \"Topic2\", \"Topic2\", \"Topic2\", \"Topic2\", \"Topic2\", \"Topic2\", \"Topic2\", \"Topic2\", \"Topic2\", \"Topic2\", \"Topic2\", \"Topic2\", \"Topic2\", \"Topic2\", \"Topic2\", \"Topic2\", \"Topic2\", \"Topic2\", \"Topic2\", \"Topic2\", \"Topic2\", \"Topic2\", \"Topic2\", \"Topic2\", \"Topic2\", \"Topic2\", \"Topic2\", \"Topic2\", \"Topic2\", \"Topic2\", \"Topic2\", \"Topic2\", \"Topic2\", \"Topic2\", \"Topic2\", \"Topic2\", \"Topic3\", \"Topic3\", \"Topic3\", \"Topic3\", \"Topic3\", \"Topic3\", \"Topic3\", \"Topic3\", \"Topic3\", \"Topic3\", \"Topic3\", \"Topic3\", \"Topic3\", \"Topic3\", \"Topic3\", \"Topic3\", \"Topic3\", \"Topic3\", \"Topic3\", \"Topic3\", \"Topic3\", \"Topic3\", \"Topic3\", \"Topic3\", \"Topic3\", \"Topic3\", \"Topic3\", \"Topic3\", \"Topic3\", \"Topic3\", \"Topic3\", \"Topic3\", \"Topic3\", \"Topic3\", \"Topic3\", \"Topic3\", \"Topic3\", \"Topic3\", \"Topic3\", \"Topic3\", \"Topic3\", \"Topic3\", \"Topic3\", \"Topic3\", \"Topic3\", \"Topic3\", \"Topic3\", \"Topic3\", \"Topic3\", \"Topic3\", \"Topic3\", \"Topic3\", \"Topic3\", \"Topic3\", \"Topic3\", \"Topic3\", \"Topic3\", \"Topic3\", \"Topic3\", \"Topic3\", \"Topic3\", \"Topic3\", \"Topic3\", \"Topic3\", \"Topic3\", \"Topic3\", \"Topic3\", \"Topic3\", \"Topic3\", \"Topic3\", \"Topic3\", \"Topic3\", \"Topic3\", \"Topic4\", \"Topic4\", \"Topic4\", \"Topic4\", \"Topic4\", \"Topic4\", \"Topic4\", \"Topic4\", \"Topic4\", \"Topic4\", \"Topic4\", \"Topic4\", \"Topic4\", \"Topic4\", \"Topic4\", \"Topic4\", \"Topic4\", \"Topic4\", \"Topic4\", \"Topic4\", \"Topic4\", \"Topic4\", \"Topic4\", \"Topic4\", \"Topic4\", \"Topic4\", \"Topic4\", \"Topic4\", \"Topic4\", \"Topic4\", \"Topic4\", \"Topic4\", \"Topic4\", \"Topic4\", \"Topic4\", \"Topic4\", \"Topic4\", \"Topic4\", \"Topic4\", \"Topic4\", \"Topic4\", \"Topic4\", \"Topic4\", \"Topic4\", \"Topic4\", \"Topic4\", \"Topic4\", \"Topic4\", \"Topic4\", \"Topic4\", \"Topic4\", \"Topic4\", \"Topic4\", \"Topic4\", \"Topic4\", \"Topic4\", \"Topic4\", \"Topic4\", \"Topic4\", \"Topic4\", \"Topic4\", \"Topic4\", \"Topic4\", \"Topic4\", \"Topic4\", \"Topic4\", \"Topic4\", \"Topic4\", \"Topic4\", \"Topic4\", \"Topic4\"], \"logprob\": [30.0, 29.0, 28.0, 27.0, 26.0, 25.0, 24.0, 23.0, 22.0, 21.0, 20.0, 19.0, 18.0, 17.0, 16.0, 15.0, 14.0, 13.0, 12.0, 11.0, 10.0, 9.0, 8.0, 7.0, 6.0, 5.0, 4.0, 3.0, 2.0, 1.0, -5.2296, -6.7075, -6.8478, -7.102, -7.1342, -7.3136, -5.947, -7.4894, -7.2504, -7.6398, -7.6412, -6.4634, -7.8192, -7.8192, -6.0597, -7.8204, -7.8204, -7.8206, -7.5028, -7.1925, -7.8883, -7.9613, -7.962, -7.3435, -8.0373, -7.9651, -7.9652, -7.9652, -7.9654, -8.0395, -7.2772, -7.611, -7.1485, -7.3532, -7.5177, -6.8796, -6.7539, -6.3772, -7.4054, -6.1016, -5.3388, -6.9769, -6.9521, -7.2438, -7.1343, -6.1272, -6.4203, -6.9717, -4.8772, -4.9154, -6.1692, -6.3767, -4.5587, -5.0657, -5.9798, -5.0551, -6.5618, -4.6565, -5.6001, -5.2297, -4.7899, -5.7966, -5.8397, -5.79, -4.8212, -5.1681, -6.0324, -5.0934, -4.9804, -5.0352, -5.8217, -5.5942, -5.0348, -5.4646, -4.5248, -5.8041, -5.0442, -5.1705, -5.523, -5.0231, -4.995, -5.217, -4.9596, -5.4428, -5.5724, -5.4692, -5.3601, -5.4917, -5.7505, -5.9363, -6.6263, -6.9287, -6.9934, -7.0632, -6.9989, -7.2681, -7.3153, -6.6236, -6.6029, -7.3649, -7.3662, -6.5636, -6.6782, -7.5843, -7.6459, -7.6459, -7.7125, -7.7845, -7.7163, -7.8628, -7.7888, -7.8628, -7.8628, -7.8631, -7.8635, -7.8645, -7.8661, -7.0692, -5.0179, -7.2689, -6.9629, -7.2708, -7.3144, -7.3641, -6.2392, -6.8152, -6.7551, -6.7588, -5.7015, -4.1366, -3.8808, -6.3322, -6.8459, -3.9042, -5.2528, -4.1014, -4.1369, -4.6457, -4.1747, -6.3365, -6.1091, -4.3005, -5.5494, -5.9656, -5.7879, -4.6513, -4.8659, -4.9016, -6.356, -5.1875, -4.9513, -4.9149, -5.0215, -5.4041, -5.393, -5.578, -4.5134, -5.3456, -5.7297, -5.1405, -5.5039, -5.2573, -4.9713, -5.4336, -5.4646, -5.5675, -5.2993, -6.5708, -5.1968, -6.3738, -7.0018, -6.9616, -7.0964, -6.4084, -7.3162, -6.3209, -7.3817, -7.5208, -7.5212, -5.6314, -7.6011, -6.8372, -7.6858, -6.9128, -7.1748, -7.69, -7.7771, -7.7791, -7.7794, -7.7807, -7.7819, -7.8797, -7.8814, -7.8817, -7.7896, -7.8863, -6.5979, -3.9235, -6.6361, -6.614, -7.3751, -3.165, -7.2366, -5.8719, -6.4642, -4.3523, -5.6799, -6.4842, -6.2552, -3.7087, -4.1665, -5.4003, -5.1481, -6.6678, -5.0567, -5.7709, -5.2022, -5.5122, -5.2756, -5.8599, -5.1432, -4.8928, -5.4832, -5.4485, -4.7869, -5.4471, -5.4205, -5.5073, -5.3681, -5.0316, -5.2671, -5.0676, -5.1282, -5.342, -5.466, -5.3616, -5.3729, -5.4251, -5.5043, -5.5032, -5.7651, -6.2807, -6.5193, -6.6466, -6.7948, -7.0711, -7.1777, -7.2352, -7.2365, -7.2379, -7.238, -7.3698, -7.3733, -7.5173, -7.5181, -7.5191, -7.5198, -5.6706, -7.6033, -6.3771, -5.7066, -7.6046, -7.605, -7.4508, -7.6071, -7.6947, -7.6961, -7.6965, -7.5301, -6.0939, -4.9246, -6.7373, -5.0296, -6.5631, -4.6617, -5.1893, -7.1784, -4.8263, -6.3913, -5.0531, -4.9509, -5.6853, -4.7229, -5.2648, -4.6096, -4.1128, -6.6145, -5.8148, -6.0287, -3.9355, -5.6666, -4.2928, -4.951, -4.7941, -4.7357, -5.7074, -4.9584, -4.6206, -5.1127, -4.8866, -4.6082, -4.7306, -5.013, -5.0832, -5.2061, -5.1359, -5.0636, -5.0674, -5.2022, -5.398], \"loglift\": [30.0, 29.0, 28.0, 27.0, 26.0, 25.0, 24.0, 23.0, 22.0, 21.0, 20.0, 19.0, 18.0, 17.0, 16.0, 15.0, 14.0, 13.0, 12.0, 11.0, 10.0, 9.0, 8.0, 7.0, 6.0, 5.0, 4.0, 3.0, 2.0, 1.0, 1.0845, 1.0751, 1.0716, 1.0657, 1.0652, 1.062, 1.0618, 1.0536, 1.0515, 1.05, 1.0487, 1.0437, 1.0429, 1.0429, 1.0428, 1.0418, 1.0418, 1.0416, 1.0411, 1.0404, 1.0386, 1.0348, 1.0342, 1.0339, 1.0331, 1.0312, 1.0311, 1.0311, 1.031, 1.0309, 1.0268, 1.0282, 1.0208, 1.0248, 1.0262, 0.9976, 0.9921, 0.9709, 1.0128, 0.9156, 0.8367, 0.9733, 0.9707, 0.9921, 0.9749, 0.8398, 0.876, 0.9527, 0.6339, 0.6298, 0.8222, 0.8357, 0.4836, 0.5679, 0.7485, 0.5305, 0.8621, 0.3722, 0.6168, 0.48, 0.3378, 0.6367, 0.6335, 0.6162, 0.2879, 0.4026, 0.6894, 0.3262, 0.2748, 0.2103, 0.5762, 0.4565, 0.1048, 0.3534, -0.3418, 0.5303, -0.0925, 0.0089, 0.2919, -0.282, -0.3514, -0.1288, -0.4712, 0.0981, 0.2212, 0.0007, -0.4571, -0.3123, 1.2822, 1.2787, 1.2703, 1.2636, 1.2635, 1.2627, 1.2582, 1.2547, 1.252, 1.2499, 1.2493, 1.249, 1.2476, 1.2449, 1.2415, 1.2412, 1.2402, 1.2401, 1.2382, 1.2353, 1.2345, 1.2312, 1.2312, 1.2312, 1.2311, 1.2309, 1.2305, 1.2295, 1.2279, 1.2212, 1.1732, 1.2134, 1.1992, 1.2084, 1.2077, 1.2052, 1.1418, 1.1584, 1.1448, 1.1438, 1.013, 0.7664, 0.7177, 1.0551, 1.1265, 0.5842, 0.832, 0.5976, 0.6042, 0.6435, 0.4689, 0.9917, 0.9212, 0.3805, 0.7396, 0.8733, 0.8121, 0.3005, 0.2738, 0.2777, 0.9533, 0.3642, 0.2282, 0.1732, 0.2337, 0.4001, 0.3592, 0.4954, -0.3304, 0.3026, 0.5557, -0.1118, 0.2696, -0.1296, -0.6299, -0.014, -0.3556, 0.2261, 1.586, 1.5794, 1.574, 1.57, 1.5679, 1.5655, 1.5641, 1.5586, 1.5553, 1.5542, 1.5502, 1.5444, 1.544, 1.5388, 1.538, 1.5357, 1.533, 1.5328, 1.5324, 1.5289, 1.5287, 1.5266, 1.5264, 1.525, 1.5238, 1.5211, 1.5193, 1.519, 1.5157, 1.5141, 1.4932, 1.4146, 1.4851, 1.4778, 1.4926, 1.1763, 1.4718, 1.3344, 1.3388, 0.9738, 1.1034, 1.2761, 1.1881, 0.4743, 0.5146, 0.8674, 0.7593, 1.2739, 0.6148, 0.892, 0.5712, 0.7224, 0.4767, 0.8304, 0.3267, 0.059, 0.4917, 0.433, -0.2985, 0.3377, 0.2131, 0.3076, 0.1256, -0.4331, -0.0877, -0.424, -0.4293, -0.2024, 0.1047, -0.2339, -0.6318, -0.5221, -0.2151, 1.6596, 1.6534, 1.6533, 1.6495, 1.6474, 1.6421, 1.6277, 1.6265, 1.6262, 1.6247, 1.6234, 1.6233, 1.6166, 1.6128, 1.6119, 1.6111, 1.6101, 1.6094, 1.6067, 1.6058, 1.6052, 1.6052, 1.6045, 1.6041, 1.6037, 1.6018, 1.6014, 1.5999, 1.5995, 1.5988, 1.594, 1.5245, 1.556, 1.4557, 1.5449, 1.4036, 1.4282, 1.5725, 1.326, 1.4923, 1.2786, 1.2466, 1.3518, 0.9253, 1.0563, 0.8707, 0.5862, 1.3893, 1.0575, 1.138, 0.2475, 0.9701, 0.3057, 0.5427, 0.4514, 0.3524, 0.9555, 0.3308, 0.023, 0.4282, 0.2225, -0.2669, -0.2423, 0.0294, 0.0962, 0.2638, 0.0435, -0.3225, -0.3864, -0.1734, 0.1537]}, \"token.table\": {\"Topic\": [2, 1, 1, 2, 1, 2, 3, 4, 4, 4, 1, 2, 4, 1, 4, 3, 1, 3, 4, 1, 2, 3, 1, 2, 3, 4, 1, 1, 2, 3, 4, 1, 2, 3, 4, 4, 4, 1, 2, 3, 4, 1, 2, 3, 4, 1, 2, 4, 1, 2, 3, 4, 1, 2, 3, 4, 3, 1, 2, 3, 4, 3, 3, 1, 2, 3, 4, 1, 2, 3, 4, 2, 4, 2, 1, 2, 3, 4, 2, 1, 3, 3, 1, 1, 2, 3, 4, 1, 2, 3, 2, 1, 3, 4, 1, 3, 4, 2, 3, 4, 1, 2, 3, 1, 2, 3, 4, 1, 2, 1, 2, 3, 4, 1, 3, 1, 2, 3, 4, 1, 3, 4, 3, 4, 1, 2, 3, 4, 1, 2, 3, 4, 1, 2, 3, 3, 4, 1, 4, 3, 1, 3, 2, 1, 2, 3, 4, 1, 2, 3, 4, 4, 4, 1, 2, 1, 2, 3, 4, 1, 1, 2, 3, 4, 1, 4, 1, 2, 1, 2, 3, 4, 3, 4, 4, 1, 2, 3, 4, 1, 2, 3, 4, 3, 1, 2, 3, 4, 1, 2, 3, 3, 4, 1, 2, 3, 4, 1, 2, 3, 4, 1, 2, 3, 4, 1, 2, 1, 3, 2, 2, 4, 1, 3, 1, 2, 3, 4, 2, 4, 1, 2, 3, 4, 1, 2, 3, 4, 1, 2, 3, 4, 1, 2, 4, 1, 2, 3, 4, 1, 2, 3, 4, 1, 2, 3, 4, 1, 2, 3, 4, 1, 3, 2, 2, 1, 2, 3, 4, 1, 2, 3, 4, 1, 2, 3, 4, 1, 2, 3, 4, 1, 2, 3, 4, 1, 2, 3, 4, 1, 2, 3, 1, 2, 1, 4, 1, 3, 1, 1, 2, 3, 4, 1, 2, 3, 4, 1, 2, 3, 4, 3, 4, 1, 2, 3, 4, 1, 2, 3, 4, 1, 2, 3, 4, 1, 2, 4, 1, 2, 3, 4, 1, 2, 3, 4, 3, 1, 2, 3, 4, 1, 2, 3, 4, 1, 2, 3, 4, 3, 3, 1, 2, 3, 4, 1, 2, 3, 4, 2, 4, 1, 2, 1, 2, 3, 4, 1, 2, 3, 4, 1, 2, 3, 4, 3, 1, 3, 4, 1, 2, 3, 4, 2, 1, 2, 3, 4, 1, 3, 1, 2, 3, 4, 1, 2, 3, 4, 2, 1, 2, 3, 4, 2, 1, 2, 3, 4, 1, 2, 3, 4, 1, 1, 2, 3, 4, 1, 2, 3, 4, 1, 2, 4, 1, 2, 3, 4, 1, 2, 3, 4, 2, 2, 2, 3, 1, 2, 1, 4, 1, 2, 3, 4, 1, 2, 1, 4, 1, 2, 3, 4, 3, 1, 2, 2, 3, 4, 1, 2, 3, 4, 1, 1, 2, 3, 4, 3, 4, 1, 2, 4, 1, 3, 4, 4, 1, 2, 3, 4, 4, 2, 3, 4, 1, 2, 3, 4, 1, 3, 4, 2, 1, 2, 3, 4, 3, 2, 3, 1, 1, 2, 3, 4, 1, 1, 2, 4, 1, 2, 3, 4, 1, 2, 3, 4, 3, 2, 1, 2, 3, 4, 1, 2, 1, 1, 2, 1, 1, 2, 3, 4, 3, 2, 1, 2, 3, 4, 1, 3, 1, 2, 3, 4, 1, 2, 3, 4, 1, 2, 3, 4, 4, 1, 2, 3, 4, 2, 1, 2, 3, 4, 4, 2, 1, 2, 3, 4, 4, 2, 1, 2, 3, 1, 2, 3, 4, 1, 2, 3, 4, 3, 4, 4, 3, 4, 4, 1, 2, 3, 4, 1, 2, 3, 4, 1, 2, 3, 4, 1, 2, 3, 4, 2, 1, 2, 3, 4, 1, 4, 1, 2, 3, 4, 1, 2, 3, 4, 1, 2, 3, 1, 2, 1, 2, 3, 4, 2, 4, 1, 2, 3, 4, 1, 2, 3, 4], \"Freq\": [0.9324426146362911, 0.9451840984547821, 0.965548205546945, 0.03713646944411327, 0.11318390352799831, 0.19014895792703718, 0.04980091755231926, 0.6519392843212704, 0.9343065588978113, 0.9752314500310594, 0.08871928449039278, 0.8576197500737969, 0.04435964224519639, 0.97131421539484, 0.9818750863222008, 0.9290610264529988, 0.9611268620694353, 0.040046952586226474, 0.040046952586226474, 0.9942444464618585, 0.9340675620034415, 0.044479407714449595, 0.903889542900499, 0.03476498241924996, 0.03476498241924996, 0.9031257537551645, 0.9593231455472737, 0.6335730723737051, 0.11167295160543722, 0.15041662869303787, 0.10483583211939004, 0.027595722283616446, 0.013797861141808223, 0.027595722283616446, 0.9382545576429592, 0.9746134718779713, 0.9746117086647414, 0.017779841294592896, 0.31114722265537564, 0.1333488097094467, 0.5422851594850833, 0.05032418406575612, 0.5645458467013005, 0.1308428785709659, 0.25436587582327636, 0.8870588820592071, 0.028614802647071197, 0.08584440794121359, 0.0812514569256774, 0.6229278364301933, 0.14896100436374188, 0.14896100436374188, 0.24311086840423715, 0.5755277700998267, 0.11411326476117255, 0.06449880182153231, 0.9560295235532629, 0.07592413966138806, 0.7592413966138806, 0.09110896759366567, 0.07592413966138806, 0.9120080306355824, 0.91163308195968, 0.1334510208871969, 0.23880709000866815, 0.1334510208871969, 0.4916616559001991, 0.41591655618217643, 0.4519093350825571, 0.08798234842315271, 0.043991174211576355, 0.9218796595325696, 0.04851998208066156, 0.964003480575922, 0.04060785715281899, 0.39447632662738447, 0.3248628572225519, 0.2407465816917126, 0.9587606129325179, 0.009006848104765604, 0.9817464434194507, 0.984522714652335, 0.9459896319938941, 0.17563426137642815, 0.39636380607923655, 0.20886236488007673, 0.21835610873826203, 0.9159131984360662, 0.02130030694037363, 0.0639009208211209, 0.9019405619941527, 0.9754250285177921, 0.05818027586612318, 0.9308844138579708, 0.04790030553269843, 0.9340559578876194, 0.011975076383174608, 0.8718666038027094, 0.12455237197181562, 0.9031867784686195, 0.03229248778238117, 0.9041896579066727, 0.03229248778238117, 0.37254397208739276, 0.36154056362911535, 0.16505112687416135, 0.10060259161853644, 0.966651531480113, 0.9905255604748724, 0.4770368626615379, 0.16417502416273708, 0.19205380185074902, 0.16417502416273708, 0.9228340318357382, 0.07285531830282144, 0.1863090378867689, 0.34890601640613084, 0.4302045056658118, 0.03726180757735378, 0.021632718532521522, 0.49034162007048787, 0.49034162007048787, 0.8922124448495772, 0.11152655560619715, 0.07356132658549533, 0.1687583374608422, 0.056252779153614076, 0.7053233078491611, 0.631945589861847, 0.07309818390193007, 0.1131842847513756, 0.18392446272098534, 0.9852945207325119, 0.9839259035192044, 0.8914675884772683, 0.053317909158167205, 0.933063410267926, 0.9216251452348596, 0.040070658488472154, 0.9120026158974442, 0.06538928159771427, 0.9154499423679998, 0.9585922191577676, 0.7818143905995206, 0.17590823788489215, 0.009772679882494008, 0.03909071952997603, 0.03670814480344032, 0.917703620086008, 0.7252841245648421, 0.2590300444874436, 0.9569572025415515, 0.9342745912232407, 0.04628361397001106, 0.9256722794002212, 0.1402563874811797, 0.7433588536502523, 0.042076916244353904, 0.08415383248870781, 0.9667443508822346, 0.07868003689690338, 0.15736007379380676, 0.6609123099339883, 0.09441604427628404, 0.8882175058962629, 0.07837213287319968, 0.8881745976399416, 0.09188013079033877, 0.005822814607540307, 0.12810192136588675, 0.005822814607540307, 0.8617765619159654, 0.9435228821783943, 0.9775703365916597, 0.9200068934442526, 0.5720913440312861, 0.18169424660221106, 0.12031105518254516, 0.12767703815290507, 0.632258666075241, 0.19683524509889577, 0.11929408793872472, 0.04771763517548989, 0.8914905363677416, 0.12415920868603107, 0.049663683474412426, 0.7697870938533926, 0.062079604343015536, 0.02674246231275253, 0.8825012563208335, 0.0802273869382576, 0.8988680035333978, 0.09298634519311011, 0.4429014252543042, 0.34761585966174474, 0.08646282803769285, 0.12351832576813264, 0.16806860426442524, 0.479489841577919, 0.25210290639663785, 0.10380707910449793, 0.15123935140000822, 0.043211243257145204, 0.7129855137428959, 0.0648168648857178, 0.9431943470536368, 0.03252394300184955, 0.9754763117411475, 0.9120277345784107, 0.983929282675709, 0.01535173099224805, 0.9825107835038752, 0.05569659080470019, 0.9468420436799032, 0.25325430220283096, 0.5033429256281265, 0.10657785217702469, 0.13612418743402163, 0.01188784550714562, 0.9866911770930865, 0.2232118955231764, 0.22100187675562022, 0.1082909196102539, 0.44863380981390905, 0.5031691921676165, 0.17901211644424816, 0.2225556042279842, 0.09434422353142809, 0.3386076578012061, 0.34515080094712314, 0.11941236241298572, 0.19629429437751078, 0.02484336312505594, 0.8695177093769579, 0.09937345250022377, 0.028753470647297885, 0.3737951184148725, 0.12546969009729986, 0.47312528974190154, 0.7751090713780581, 0.08858389387177806, 0.04872114162947794, 0.08858389387177806, 0.15999108306391496, 0.3614613358110671, 0.3555357401420332, 0.12443750904971163, 0.1331561565468921, 0.4024495776230695, 0.33686520201042114, 0.1271939405821059, 0.02423503729317375, 0.9451664544337762, 0.9403171770273162, 0.90193610712473, 0.13528936298166808, 0.022548227163611347, 0.7666397235627858, 0.06764468149083404, 0.3665787176266132, 0.1043545254557512, 0.37193023175254913, 0.1578696667151108, 0.17901951718577358, 0.19095415166482516, 0.03580390343715471, 0.584797089473527, 0.008031852679973597, 0.016063705359947195, 0.9718541742768053, 0.008031852679973597, 0.9754067500426402, 0.03681854135504632, 0.07363708271009264, 0.8836449925211117, 0.6361519436909578, 0.10315977465258777, 0.17766405634612337, 0.08596647887715647, 0.2477354687749182, 0.7156802431275415, 0.027526163197213134, 0.02533971076385989, 0.9629090090266758, 0.9741126937324809, 0.9572481156052717, 0.025958366679996788, 0.9604595671598812, 0.9754033456005031, 0.29964717682788927, 0.2427142132305903, 0.2816683462182159, 0.17379536256017578, 0.23643577195921897, 0.44032572915482077, 0.13209771874644624, 0.19144596919774817, 0.0019168821407940747, 0.0038337642815881494, 0.8280930848230403, 0.1667687462490845, 0.891179742817979, 0.9031365913065551, 0.2956118874547433, 0.32696466339691305, 0.11048121046288387, 0.2672450901737326, 0.6730458376875209, 0.1376684667997202, 0.09177897786648012, 0.09942722602202013, 0.46588009366090816, 0.27245666191776324, 0.17262521327614008, 0.08943233940812076, 0.8655645306757842, 0.07637334094198096, 0.05091556062798731, 0.5925104762367545, 0.10562143272046493, 0.24988485302158775, 0.051522650107543866, 0.2098174199872507, 0.4942183759855944, 0.14916707202218604, 0.14670827413171045, 0.9119692918538613, 0.17853576460586298, 0.32418336204748804, 0.4134512443504196, 0.08456957270804036, 0.34987818705736073, 0.15513466784618823, 0.31026933569237647, 0.1848413063699264, 0.23855187687358748, 0.19808864712540936, 0.3231019091832134, 0.2397597344780107, 0.8914176080100146, 0.9891773549994833, 0.48820546999989184, 0.24621313328524805, 0.10833377864550914, 0.15757640530255876, 0.3391363964453374, 0.40940790201509203, 0.05499509131546012, 0.1955381024549693, 0.9711293210248115, 0.02368608100060516, 0.9460534096564289, 0.04730267048282145, 0.05512598185844935, 0.027562990929224675, 0.13781495464612337, 0.7442007550890662, 0.2306247122238872, 0.010482941464722145, 0.031448824394166436, 0.723322961065828, 0.12944717674185283, 0.13462506381152692, 0.06731253190576346, 0.6731253190576346, 0.9119917396134202, 0.020097235587460977, 0.060291706762382935, 0.924472837023205, 0.8426813271621629, 0.030829804652274254, 0.09248941395682277, 0.04110640620303234, 0.913556269330679, 0.6247878900207087, 0.23987392206152208, 0.08367694955634492, 0.05020616973380695, 0.9303688495056394, 0.03721475398022558, 0.024439766724675335, 0.146638600348052, 0.024439766724675335, 0.8309520686389614, 0.03136334228115214, 0.5008017557796873, 0.13051197271834275, 0.33690299934269874, 0.9019607835371931, 0.22396899556205754, 0.22620868551767812, 0.2284483754732987, 0.32251535360936284, 0.983932076975577, 0.3368184302643397, 0.13997649049946584, 0.2799529809989317, 0.24495885837406522, 0.12879958915725545, 0.210246388183167, 0.5322453610763056, 0.12690547755200168, 0.9667476455674149, 0.05731015223086951, 0.1464592779233332, 0.652345189590885, 0.14362914694896925, 0.06015114047881946, 0.03007557023940973, 0.902267107182292, 0.03007557023940973, 0.9561258829933952, 0.01677413829812974, 0.01677413829812974, 0.4482365722474174, 0.1936260022973538, 0.1250183636880552, 0.23479058546293294, 0.07537337382041166, 0.1467797279660648, 0.015868078699034033, 0.7616677775536337, 0.9324371640456623, 0.9638074056105266, 0.9890155309322319, 0.9768074950365805, 0.04434014347416927, 0.9311430129575546, 0.9879868438115124, 0.9578723465727058, 0.08329602200950635, 0.6871921815784274, 0.07288401925831806, 0.15618004126782442, 0.93651319361701, 0.05202851075650056, 0.9920653795394181, 0.9745400214071727, 0.18916185518534218, 0.6620664931486976, 0.04299133072394141, 0.11177745988224766, 0.9560006993808415, 0.9665407745596416, 0.9684228919866618, 0.04287659225614926, 0.9432850296352837, 0.9388039532333217, 0.27542131954205956, 0.18482220127164525, 0.3297807905043082, 0.21381391911817782, 0.9610749812317614, 0.1584937548660459, 0.006891032820262865, 0.05512826256210292, 0.7786867086897037, 0.0539557175422124, 0.944225056988717, 0.8025127437483808, 0.06173174951910621, 0.138896436417989, 0.9512719273994594, 0.02238286887998728, 0.02238286887998728, 0.9342278250521202, 0.024148742799754843, 0.13885527109859033, 0.030185928499693555, 0.8029456980918485, 0.9339615211423942, 0.060197240027468644, 0.8728599803982953, 0.060197240027468644, 0.6232105641619933, 0.09232749098696197, 0.18465498197392394, 0.09694386553631007, 0.9681853549996856, 0.010191424789470374, 0.010191424789470374, 0.989432582540567, 0.8015339382807699, 0.12226788889028695, 0.01358532098780966, 0.05434128395123864, 0.9567071023096307, 0.02656641248484213, 0.9563908494543166, 0.960984643251359, 0.3709796256469571, 0.2629728991927797, 0.07983105868352242, 0.2864526223349922, 0.9720749661373186, 0.022673144388546583, 0.9522720643189565, 0.022673144388546583, 0.4706474028788865, 0.2423135143534861, 0.1599890511436479, 0.12736992421144783, 0.7611281064597731, 0.09013359155444682, 0.12017812207259576, 0.03004453051814894, 0.9290188429878748, 0.923805665724904, 0.053422519045547616, 0.8547603047287619, 0.08013377856832142, 0.026711259522773808, 0.9852420243292402, 0.9137228358683815, 0.9667610745405063, 0.02419465325141168, 0.9677861300564672, 0.9667208921571172, 0.7082003161350958, 0.08467612475528319, 0.061582636185660504, 0.1462587609409437, 0.9707264311094018, 0.9725819330891138, 0.23461598608367423, 0.6310361005009169, 0.008090206416678422, 0.12539819945851555, 0.9177179765651202, 0.04171445348023274, 0.5710631933784746, 0.11421263867569492, 0.17651044158971033, 0.13497857298036672, 0.24534214296785245, 0.3631063715924216, 0.1848244143691155, 0.20608740009299606, 0.5974995279318392, 0.34300898825716697, 0.022129612145623673, 0.03872682125484143, 0.9459151652308431, 0.42021593689498044, 0.34463753097861705, 0.1027866320462542, 0.13301799441279955, 0.965156386872008, 0.31125658826256175, 0.02223261344732584, 0.459474011244734, 0.20750439217504119, 0.919798231550452, 0.9915226873394228, 0.544825677458501, 0.14547701335279345, 0.11695210877381434, 0.19254310590810897, 0.9199955191491311, 0.9236488675314558, 0.05951523365145445, 0.7885768458817715, 0.14878808412863612, 0.5316525957922501, 0.35573813394922615, 0.05472894368449633, 0.05863815394767464, 0.45086364233063775, 0.16675778551955095, 0.27484153539333395, 0.11117185701303396, 0.9761275196637141, 0.9746508340611021, 0.9200377277018809, 0.9169483213746566, 0.039867318320637245, 0.9342445788322365, 0.3836690633654706, 0.06313541549052047, 0.48080047181242513, 0.07770512675756366, 0.05293966456762724, 0.5239201286520351, 0.16247000505237325, 0.2610473114886447, 0.30612379312533217, 0.3712565150668922, 0.2136353279683169, 0.10812031842298965, 0.41413781735799576, 0.18522619679302765, 0.10659243400353478, 0.29356604774744005, 0.90195179260944, 0.7744949843452601, 0.11242669127592486, 0.062459272931069364, 0.04996741834485549, 0.9754293401289423, 0.9767857583017275, 0.04948394427595311, 0.8907109969671559, 0.044985403887230095, 0.01349562116616903, 0.5420820252602646, 0.13343557544868054, 0.11953603633944297, 0.20571317881671583, 0.8895935251930521, 0.0762508735879759, 0.025416957862658632, 0.9357619658970182, 0.034657850588778454, 0.14345148789924933, 0.2561633712486595, 0.061479209099678286, 0.537943079622185, 0.09177681465420612, 0.8871758749906592, 0.21214948919810647, 0.5930260575245315, 0.11910146761998959, 0.07567905755020173, 0.12199844698383508, 0.17079782577736913, 0.6099922349191754, 0.09759875758706807], \"Term\": [\"aaaaaaaaah\", \"aahh\", \"ache\", \"ache\", \"ah\", \"ah\", \"ah\", \"ah\", \"ale\", \"alejandro\", \"almost\", \"almost\", \"almost\", \"alternate\", \"amor\", \"amy\", \"anderson\", \"anderson\", \"anderson\", \"annie\", \"anthem\", \"anthem\", \"applause\", \"applause\", \"applause\", \"arnold\", \"artpop\", \"away\", \"away\", \"away\", \"away\", \"b\", \"b\", \"b\", \"b\", \"baba\", \"bababa\", \"babe\", \"babe\", \"babe\", \"babe\", \"baby\", \"baby\", \"baby\", \"baby\", \"bang\", \"bang\", \"bang\", \"beat\", \"beat\", \"beat\", \"beat\", \"better\", \"better\", \"better\", \"better\", \"birthday\", \"bitch\", \"bitch\", \"bitch\", \"bitch\", \"blackest\", \"blinding\", \"blue\", \"blue\", \"blue\", \"blue\", \"body\", \"body\", \"body\", \"body\", \"bop\", \"bop\", \"bos\", \"boy\", \"boy\", \"boy\", \"boy\", \"bump\", \"cake\", \"cake\", \"cane\", \"cast\", \"cause\", \"cause\", \"cause\", \"cause\", \"cha\", \"cha\", \"cha\", \"charade\", \"chillin\", \"chord\", \"chord\", \"christmas\", \"christmas\", \"christmas\", \"clap\", \"clap\", \"clegg\", \"clock\", \"clock\", \"clock\", \"come\", \"come\", \"come\", \"come\", \"comfort\", \"coo\", \"could\", \"could\", \"could\", \"could\", \"crash\", \"crash\", \"cry\", \"cry\", \"cry\", \"cry\", \"da\", \"da\", \"da\", \"dan\", \"dan\", \"dance\", \"dance\", \"dance\", \"dance\", \"day\", \"day\", \"day\", \"day\", \"deet\", \"demerol\", \"dew\", \"di\", \"di\", \"diana\", \"diana\", \"diet\", \"diggin\", \"diggin\", \"dirt\", \"dirty\", \"dirty\", \"dirty\", \"dirty\", \"disaster\", \"disaster\", \"disco\", \"disco\", \"doggone\", \"doot\", \"downtown\", \"downtown\", \"drive\", \"drive\", \"drive\", \"drive\", \"du\", \"eat\", \"eat\", \"eat\", \"eat\", \"edge\", \"edge\", \"ee\", \"ee\", \"eh\", \"eh\", \"eh\", \"eh\", \"elastic\", \"ella\", \"eres\", \"eye\", \"eye\", \"eye\", \"eye\", \"face\", \"face\", \"face\", \"face\", \"fallin\", \"fame\", \"fame\", \"fame\", \"fame\", \"farewell\", \"farewell\", \"farewell\", \"fashion\", \"fashion\", \"feel\", \"feel\", \"feel\", \"feel\", \"feeling\", \"feeling\", \"feeling\", \"feeling\", \"fine\", \"fine\", \"fine\", \"fine\", \"force\", \"force\", \"forgotten\", \"frying\", \"funk\", \"gangsta\", \"gangsta\", \"gasoline\", \"gasoline\", \"get\", \"get\", \"get\", \"get\", \"gim\", \"gim\", \"girl\", \"girl\", \"girl\", \"girl\", \"give\", \"give\", \"give\", \"give\", \"go\", \"go\", \"go\", \"go\", \"goin\", \"goin\", \"goin\", \"gon\", \"gon\", \"gon\", \"gon\", \"gone\", \"gone\", \"gone\", \"gone\", \"good\", \"good\", \"good\", \"good\", \"got\", \"got\", \"got\", \"got\", \"greatest\", \"greatest\", \"groupie\", \"haaaauh\", \"happen\", \"happen\", \"happen\", \"happen\", \"heart\", \"heart\", \"heart\", \"heart\", \"hey\", \"hey\", \"hey\", \"hey\", \"ho\", \"ho\", \"ho\", \"ho\", \"holland\", \"hollywood\", \"hollywood\", \"hollywood\", \"home\", \"home\", \"home\", \"home\", \"hoo\", \"hoo\", \"hoo\", \"hooker\", \"hooker\", \"illusion\", \"j\", \"jam\", \"jam\", \"jane\", \"keep\", \"keep\", \"keep\", \"keep\", \"know\", \"know\", \"know\", \"know\", \"la\", \"la\", \"la\", \"la\", \"lane\", \"layne\", \"let\", \"let\", \"let\", \"let\", \"lie\", \"lie\", \"lie\", \"lie\", \"life\", \"life\", \"life\", \"life\", \"lift\", \"lift\", \"lift\", \"light\", \"light\", \"light\", \"light\", \"like\", \"like\", \"like\", \"like\", \"limb\", \"little\", \"little\", \"little\", \"little\", \"look\", \"look\", \"look\", \"look\", \"love\", \"love\", \"love\", \"love\", \"lsd\", \"luv\", \"make\", \"make\", \"make\", \"make\", \"man\", \"man\", \"man\", \"man\", \"marry\", \"marry\", \"message\", \"message\", \"michael\", \"michael\", \"michael\", \"michael\", \"million\", \"million\", \"million\", \"million\", \"mine\", \"mine\", \"mine\", \"mine\", \"misfit\", \"mmm\", \"mmm\", \"mmm\", \"moment\", \"moment\", \"moment\", \"moment\", \"morphine\", \"move\", \"move\", \"move\", \"move\", \"movement\", \"movement\", \"n\", \"n\", \"n\", \"n\", \"na\", \"na\", \"na\", \"na\", \"national\", \"need\", \"need\", \"need\", \"need\", \"ner\", \"never\", \"never\", \"never\", \"never\", \"night\", \"night\", \"night\", \"night\", \"nous\", \"oh\", \"oh\", \"oh\", \"oh\", \"ohh\", \"ohh\", \"ohh\", \"ohh\", \"ok\", \"ok\", \"ok\", \"one\", \"one\", \"one\", \"one\", \"ooh\", \"ooh\", \"ooh\", \"ooh\", \"oooooo\", \"oops\", \"ovum\", \"owner\", \"oxygen\", \"oxygen\", \"p\", \"papa\", \"party\", \"party\", \"party\", \"party\", \"phonography\", \"phonography\", \"phresh\", \"pinot\", \"please\", \"please\", \"please\", \"please\", \"pound\", \"prerogative\", \"pressurin\", \"puppy\", \"puppy\", \"que\", \"really\", \"really\", \"really\", \"really\", \"relayer\", \"remember\", \"remember\", \"remember\", \"remember\", \"retro\", \"retro\", \"rhythm\", \"rhythm\", \"rhythm\", \"river\", \"river\", \"river\", \"robin\", \"rock\", \"rock\", \"rock\", \"rock\", \"rockstar\", \"romance\", \"romance\", \"romance\", \"run\", \"run\", \"run\", \"run\", \"runway\", \"runway\", \"runway\", \"sa\", \"sad\", \"sad\", \"sad\", \"sad\", \"sandal\", \"santa\", \"santa\", \"satisfied\", \"say\", \"say\", \"say\", \"say\", \"scary\", \"se\", \"se\", \"se\", \"see\", \"see\", \"see\", \"see\", \"seen\", \"seen\", \"seen\", \"seen\", \"sentimental\", \"shi\", \"shot\", \"shot\", \"shot\", \"shot\", \"smarty\", \"soda\", \"soleil\", \"somethin\", \"somethin\", \"somme\", \"song\", \"song\", \"song\", \"song\", \"stamen\", \"startin\", \"stop\", \"stop\", \"stop\", \"stop\", \"stupid\", \"stupid\", \"sun\", \"sun\", \"sun\", \"sun\", \"take\", \"take\", \"take\", \"take\", \"talk\", \"talk\", \"talk\", \"talk\", \"te\", \"tell\", \"tell\", \"tell\", \"tell\", \"thong\", \"thought\", \"thought\", \"thought\", \"thought\", \"thundercloud\", \"tick\", \"time\", \"time\", \"time\", \"time\", \"todo\", \"toxic\", \"trip\", \"trip\", \"trip\", \"turn\", \"turn\", \"turn\", \"turn\", \"u\", \"u\", \"u\", \"u\", \"ultraviolence\", \"umbrella\", \"undercover\", \"unstoppable\", \"unstoppable\", \"uoohh\", \"waiting\", \"waiting\", \"waiting\", \"waiting\", \"wan\", \"wan\", \"wan\", \"wan\", \"want\", \"want\", \"want\", \"want\", \"way\", \"way\", \"way\", \"way\", \"whooah\", \"wind\", \"wind\", \"wind\", \"wind\", \"witchu\", \"womanizer\", \"work\", \"work\", \"work\", \"work\", \"world\", \"world\", \"world\", \"world\", \"worry\", \"worry\", \"worry\", \"xscape\", \"xscape\", \"ya\", \"ya\", \"ya\", \"ya\", \"yayo\", \"yayo\", \"yeah\", \"yeah\", \"yeah\", \"yeah\", \"yes\", \"yes\", \"yes\", \"yes\"]}, \"R\": 30, \"lambda.step\": 0.01, \"plot.opts\": {\"xlab\": \"PC1\", \"ylab\": \"PC2\"}, \"topic.order\": [1, 2, 4, 3]};\n",
       "\n",
       "function LDAvis_load_lib(url, callback){\n",
       "  var s = document.createElement('script');\n",
       "  s.src = url;\n",
       "  s.async = true;\n",
       "  s.onreadystatechange = s.onload = callback;\n",
       "  s.onerror = function(){console.warn(\"failed to load library \" + url);};\n",
       "  document.getElementsByTagName(\"head\")[0].appendChild(s);\n",
       "}\n",
       "\n",
       "if(typeof(LDAvis) !== \"undefined\"){\n",
       "   // already loaded: just create the visualization\n",
       "   !function(LDAvis){\n",
       "       new LDAvis(\"#\" + \"ldavis_el134856500322089468710807\", ldavis_el134856500322089468710807_data);\n",
       "   }(LDAvis);\n",
       "}else if(typeof define === \"function\" && define.amd){\n",
       "   // require.js is available: use it to load d3/LDAvis\n",
       "   require.config({paths: {d3: \"https://d3js.org/d3.v5\"}});\n",
       "   require([\"d3\"], function(d3){\n",
       "      window.d3 = d3;\n",
       "      LDAvis_load_lib(\"https://cdn.jsdelivr.net/gh/bmabey/pyLDAvis@3.3.1/pyLDAvis/js/ldavis.v3.0.0.js\", function(){\n",
       "        new LDAvis(\"#\" + \"ldavis_el134856500322089468710807\", ldavis_el134856500322089468710807_data);\n",
       "      });\n",
       "    });\n",
       "}else{\n",
       "    // require.js not available: dynamically load d3 & LDAvis\n",
       "    LDAvis_load_lib(\"https://d3js.org/d3.v5.js\", function(){\n",
       "         LDAvis_load_lib(\"https://cdn.jsdelivr.net/gh/bmabey/pyLDAvis@3.3.1/pyLDAvis/js/ldavis.v3.0.0.js\", function(){\n",
       "                 new LDAvis(\"#\" + \"ldavis_el134856500322089468710807\", ldavis_el134856500322089468710807_data);\n",
       "            })\n",
       "         });\n",
       "}\n",
       "</script>"
      ],
      "text/plain": [
       "PreparedData(topic_coordinates=              x         y  topics  cluster       Freq\n",
       "topic                                                \n",
       "0     -0.111936  0.041116       1        1  33.604493\n",
       "1      0.038673  0.031794       2        1  27.533891\n",
       "3     -0.003918 -0.110976       3        1  20.122881\n",
       "2      0.077181  0.038066       4        1  18.738734, topic_info=       Term         Freq        Total Category  logprob  loglift\n",
       "364      oh  1413.000000  1413.000000  Default  30.0000  30.0000\n",
       "3352     la   521.000000   521.000000  Default  29.0000  29.0000\n",
       "14       na   988.000000   988.000000  Default  28.0000  28.0000\n",
       "2511   baby  1092.000000  1092.000000  Default  27.0000  27.0000\n",
       "140    love  1655.000000  1655.000000  Default  26.0000  26.0000\n",
       "...     ...          ...          ...      ...      ...      ...\n",
       "69       go   119.649942   611.326989   Topic4  -5.1359   0.0435\n",
       "68      get   128.627952   947.664059   Topic4  -5.0636  -0.3225\n",
       "72      got   128.141186  1006.337247   Topic4  -5.0674  -0.3864\n",
       "12     make   111.982754   710.766309   Topic4  -5.2022  -0.1734\n",
       "508   cause    92.064884   421.330095   Topic4  -5.3980   0.1537\n",
       "\n",
       "[340 rows x 6 columns], token_table=      Topic      Freq        Term\n",
       "term                             \n",
       "7860      2  0.932443  aaaaaaaaah\n",
       "7076      1  0.945184        aahh\n",
       "7257      1  0.965548        ache\n",
       "7257      2  0.037136        ache\n",
       "2308      1  0.113184          ah\n",
       "...     ...       ...         ...\n",
       "332       4  0.075679        yeah\n",
       "434       1  0.121998         yes\n",
       "434       2  0.170798         yes\n",
       "434       3  0.609992         yes\n",
       "434       4  0.097599         yes\n",
       "\n",
       "[627 rows x 3 columns], R=30, lambda_step=0.01, plot_opts={'xlab': 'PC1', 'ylab': 'PC2'}, topic_order=[1, 2, 4, 3])"
      ]
     },
     "execution_count": 199,
     "metadata": {},
     "output_type": "execute_result"
    }
   ],
   "source": [
    "import pyLDAvis\n",
    "import pyLDAvis.gensim_models as gensimvis\n",
    "\n",
    "pyLDAvis.enable_notebook()\n",
    "vis = gensimvis.prepare(lda_model, bc, dic)\n",
    "vis"
   ]
  },
  {
   "cell_type": "markdown",
   "metadata": {},
   "source": [
    "The common love theme continues even after using *gensim* to compute commonly shared topics inside the lyrics and visualize LDA with *pyLDAvis*."
   ]
  },
  {
   "cell_type": "markdown",
   "metadata": {},
   "source": [
    "## PART III : Feature Creation & Selection"
   ]
  },
  {
   "cell_type": "markdown",
   "metadata": {},
   "source": [
    "### 1-) Try creating additional features for your models and justify them by explaining. (Optional)"
   ]
  },
  {
   "cell_type": "markdown",
   "metadata": {},
   "source": [
    "#### Artist Names\n",
    "\n",
    "We wanted to include artists in the model, as I think they would also be effective in predicting song genre. For this, we applied one hot encoder conversion to artist names. We used the drop = \"first\" property to get rid of the dummy variable trap."
   ]
  },
  {
   "cell_type": "code",
   "execution_count": 140,
   "metadata": {},
   "outputs": [],
   "source": [
    "from sklearn.preprocessing import OneHotEncoder\n",
    "from numpy import array\n",
    "\n",
    "onehot_encoder = OneHotEncoder(sparse= False , drop = \"first\")\n",
    "\n",
    "artists = array(data.Artist)\n",
    "artists = artists.reshape(len(artists), 1)\n",
    "onehot_encode_artists = pd.DataFrame(onehot_encoder.fit_transform(artists))"
   ]
  },
  {
   "cell_type": "markdown",
   "metadata": {},
   "source": [
    "#### Song Names\n",
    "\n",
    "We thought that song names were as important as the lyrics in determining the genre.  we edited and vectorized the song names with the same processes. We did not include \"Lyrics\" in the vectorization because all of the song titles contain \"Lyrics.\""
   ]
  },
  {
   "cell_type": "code",
   "execution_count": 141,
   "metadata": {},
   "outputs": [],
   "source": [
    "data['Song'] = [rid_of_specials(i) for i in data[\"Song\"]] \n",
    "tokenized_song=[word_tokenize(i) for i in data['Song']]\n",
    "stopped_song = [[i for i in j if ((i not in stop_words)&(i !=\"lyrics\"))] for j in tokenized_song]\n",
    "\n",
    "lemmatized_song = [[lemmatizer.lemmatize(i) for i in j] for j in stopped_song]\n",
    "prepeared_sentence_song= [' '.join(j) for j in lemmatized_song]\n",
    "data['Song_Processed'] = prepeared_sentence_song"
   ]
  },
  {
   "cell_type": "code",
   "execution_count": 142,
   "metadata": {},
   "outputs": [],
   "source": [
    "X_song = vectorizer.fit_transform(prepeared_sentence_song)\n",
    "feature_names_song = vectorizer.get_feature_names()\n",
    "song_vectorized = pd.DataFrame(X_song.toarray(), columns = feature_names_song)"
   ]
  },
  {
   "cell_type": "markdown",
   "metadata": {},
   "source": [
    "### 2-) Select or eliminate redundant features."
   ]
  },
  {
   "cell_type": "markdown",
   "metadata": {},
   "source": [
    "#### a. In theory, the more feauture you can get more accuracy unless there is no noise in your data. In real life, we decrease number of feature for a price of accuracy. Think about it and justify the argument."
   ]
  },
  {
   "cell_type": "markdown",
   "metadata": {},
   "source": [
    "In this study, we vectorized the lyrics to get them into the algorithms, but in this case we had to create a new column for each word. In our dataset, this resulted in 8000 columns. For a more performing model, we can eliminate these columns without losing their meaning. For this, we selected the first 500 words from the words sorted by word frequency with the max_features parameter of the CountVectorizer(). Thus, we were able to create our model with 500 columns instead of 8000 columns."
   ]
  },
  {
   "cell_type": "markdown",
   "metadata": {},
   "source": [
    "#### b. Perform feature selection/elimination and show your codes."
   ]
  },
  {
   "cell_type": "code",
   "execution_count": 200,
   "metadata": {},
   "outputs": [],
   "source": [
    "vectorizer = CountVectorizer(max_features= 500)\n",
    "X = vectorizer.fit_transform(prepeared_sentence)\n",
    "feature_names = vectorizer.get_feature_names()\n",
    "lyrics_vectorized = pd.DataFrame(X.toarray(), columns = feature_names)"
   ]
  },
  {
   "cell_type": "markdown",
   "metadata": {},
   "source": [
    "We merged the data into a single dataframe using the *concat* method."
   ]
  },
  {
   "cell_type": "code",
   "execution_count": 144,
   "metadata": {},
   "outputs": [],
   "source": [
    "all_features = pd.concat([lyrics_vectorized,song_vectorized,onehot_encode_artists],axis = 1)"
   ]
  },
  {
   "cell_type": "code",
   "execution_count": 145,
   "metadata": {},
   "outputs": [
    {
     "data": {
      "text/html": [
       "<div>\n",
       "<style scoped>\n",
       "    .dataframe tbody tr th:only-of-type {\n",
       "        vertical-align: middle;\n",
       "    }\n",
       "\n",
       "    .dataframe tbody tr th {\n",
       "        vertical-align: top;\n",
       "    }\n",
       "\n",
       "    .dataframe thead th {\n",
       "        text-align: right;\n",
       "    }\n",
       "</style>\n",
       "<table border=\"1\" class=\"dataframe\">\n",
       "  <thead>\n",
       "    <tr style=\"text-align: right;\">\n",
       "      <th></th>\n",
       "      <th>across</th>\n",
       "      <th>ah</th>\n",
       "      <th>air</th>\n",
       "      <th>alive</th>\n",
       "      <th>almost</th>\n",
       "      <th>alone</th>\n",
       "      <th>along</th>\n",
       "      <th>alright</th>\n",
       "      <th>always</th>\n",
       "      <th>america</th>\n",
       "      <th>...</th>\n",
       "      <th>0</th>\n",
       "      <th>1</th>\n",
       "      <th>2</th>\n",
       "      <th>3</th>\n",
       "      <th>4</th>\n",
       "      <th>5</th>\n",
       "      <th>6</th>\n",
       "      <th>7</th>\n",
       "      <th>8</th>\n",
       "      <th>9</th>\n",
       "    </tr>\n",
       "  </thead>\n",
       "  <tbody>\n",
       "    <tr>\n",
       "      <th>0</th>\n",
       "      <td>0</td>\n",
       "      <td>0</td>\n",
       "      <td>0</td>\n",
       "      <td>0</td>\n",
       "      <td>0</td>\n",
       "      <td>0</td>\n",
       "      <td>0</td>\n",
       "      <td>0</td>\n",
       "      <td>0</td>\n",
       "      <td>0</td>\n",
       "      <td>...</td>\n",
       "      <td>0.0</td>\n",
       "      <td>0.0</td>\n",
       "      <td>0.0</td>\n",
       "      <td>0.0</td>\n",
       "      <td>0.0</td>\n",
       "      <td>1.0</td>\n",
       "      <td>0.0</td>\n",
       "      <td>0.0</td>\n",
       "      <td>0.0</td>\n",
       "      <td>0.0</td>\n",
       "    </tr>\n",
       "    <tr>\n",
       "      <th>1</th>\n",
       "      <td>0</td>\n",
       "      <td>0</td>\n",
       "      <td>0</td>\n",
       "      <td>0</td>\n",
       "      <td>0</td>\n",
       "      <td>0</td>\n",
       "      <td>2</td>\n",
       "      <td>0</td>\n",
       "      <td>0</td>\n",
       "      <td>0</td>\n",
       "      <td>...</td>\n",
       "      <td>0.0</td>\n",
       "      <td>0.0</td>\n",
       "      <td>0.0</td>\n",
       "      <td>0.0</td>\n",
       "      <td>0.0</td>\n",
       "      <td>1.0</td>\n",
       "      <td>0.0</td>\n",
       "      <td>0.0</td>\n",
       "      <td>0.0</td>\n",
       "      <td>0.0</td>\n",
       "    </tr>\n",
       "    <tr>\n",
       "      <th>2</th>\n",
       "      <td>0</td>\n",
       "      <td>0</td>\n",
       "      <td>0</td>\n",
       "      <td>0</td>\n",
       "      <td>0</td>\n",
       "      <td>1</td>\n",
       "      <td>0</td>\n",
       "      <td>0</td>\n",
       "      <td>0</td>\n",
       "      <td>0</td>\n",
       "      <td>...</td>\n",
       "      <td>0.0</td>\n",
       "      <td>0.0</td>\n",
       "      <td>0.0</td>\n",
       "      <td>0.0</td>\n",
       "      <td>0.0</td>\n",
       "      <td>1.0</td>\n",
       "      <td>0.0</td>\n",
       "      <td>0.0</td>\n",
       "      <td>0.0</td>\n",
       "      <td>0.0</td>\n",
       "    </tr>\n",
       "    <tr>\n",
       "      <th>3</th>\n",
       "      <td>1</td>\n",
       "      <td>0</td>\n",
       "      <td>1</td>\n",
       "      <td>0</td>\n",
       "      <td>0</td>\n",
       "      <td>1</td>\n",
       "      <td>0</td>\n",
       "      <td>0</td>\n",
       "      <td>0</td>\n",
       "      <td>0</td>\n",
       "      <td>...</td>\n",
       "      <td>0.0</td>\n",
       "      <td>0.0</td>\n",
       "      <td>0.0</td>\n",
       "      <td>0.0</td>\n",
       "      <td>0.0</td>\n",
       "      <td>1.0</td>\n",
       "      <td>0.0</td>\n",
       "      <td>0.0</td>\n",
       "      <td>0.0</td>\n",
       "      <td>0.0</td>\n",
       "    </tr>\n",
       "    <tr>\n",
       "      <th>4</th>\n",
       "      <td>0</td>\n",
       "      <td>0</td>\n",
       "      <td>0</td>\n",
       "      <td>0</td>\n",
       "      <td>0</td>\n",
       "      <td>2</td>\n",
       "      <td>0</td>\n",
       "      <td>0</td>\n",
       "      <td>0</td>\n",
       "      <td>0</td>\n",
       "      <td>...</td>\n",
       "      <td>0.0</td>\n",
       "      <td>0.0</td>\n",
       "      <td>0.0</td>\n",
       "      <td>0.0</td>\n",
       "      <td>0.0</td>\n",
       "      <td>1.0</td>\n",
       "      <td>0.0</td>\n",
       "      <td>0.0</td>\n",
       "      <td>0.0</td>\n",
       "      <td>0.0</td>\n",
       "    </tr>\n",
       "    <tr>\n",
       "      <th>...</th>\n",
       "      <td>...</td>\n",
       "      <td>...</td>\n",
       "      <td>...</td>\n",
       "      <td>...</td>\n",
       "      <td>...</td>\n",
       "      <td>...</td>\n",
       "      <td>...</td>\n",
       "      <td>...</td>\n",
       "      <td>...</td>\n",
       "      <td>...</td>\n",
       "      <td>...</td>\n",
       "      <td>...</td>\n",
       "      <td>...</td>\n",
       "      <td>...</td>\n",
       "      <td>...</td>\n",
       "      <td>...</td>\n",
       "      <td>...</td>\n",
       "      <td>...</td>\n",
       "      <td>...</td>\n",
       "      <td>...</td>\n",
       "      <td>...</td>\n",
       "    </tr>\n",
       "    <tr>\n",
       "      <th>825</th>\n",
       "      <td>0</td>\n",
       "      <td>0</td>\n",
       "      <td>0</td>\n",
       "      <td>0</td>\n",
       "      <td>0</td>\n",
       "      <td>0</td>\n",
       "      <td>0</td>\n",
       "      <td>0</td>\n",
       "      <td>1</td>\n",
       "      <td>0</td>\n",
       "      <td>...</td>\n",
       "      <td>0.0</td>\n",
       "      <td>0.0</td>\n",
       "      <td>0.0</td>\n",
       "      <td>1.0</td>\n",
       "      <td>0.0</td>\n",
       "      <td>0.0</td>\n",
       "      <td>0.0</td>\n",
       "      <td>0.0</td>\n",
       "      <td>0.0</td>\n",
       "      <td>0.0</td>\n",
       "    </tr>\n",
       "    <tr>\n",
       "      <th>826</th>\n",
       "      <td>0</td>\n",
       "      <td>0</td>\n",
       "      <td>0</td>\n",
       "      <td>0</td>\n",
       "      <td>0</td>\n",
       "      <td>0</td>\n",
       "      <td>0</td>\n",
       "      <td>0</td>\n",
       "      <td>0</td>\n",
       "      <td>0</td>\n",
       "      <td>...</td>\n",
       "      <td>0.0</td>\n",
       "      <td>0.0</td>\n",
       "      <td>0.0</td>\n",
       "      <td>1.0</td>\n",
       "      <td>0.0</td>\n",
       "      <td>0.0</td>\n",
       "      <td>0.0</td>\n",
       "      <td>0.0</td>\n",
       "      <td>0.0</td>\n",
       "      <td>0.0</td>\n",
       "    </tr>\n",
       "    <tr>\n",
       "      <th>827</th>\n",
       "      <td>0</td>\n",
       "      <td>0</td>\n",
       "      <td>0</td>\n",
       "      <td>0</td>\n",
       "      <td>0</td>\n",
       "      <td>0</td>\n",
       "      <td>0</td>\n",
       "      <td>0</td>\n",
       "      <td>0</td>\n",
       "      <td>0</td>\n",
       "      <td>...</td>\n",
       "      <td>0.0</td>\n",
       "      <td>0.0</td>\n",
       "      <td>0.0</td>\n",
       "      <td>0.0</td>\n",
       "      <td>0.0</td>\n",
       "      <td>0.0</td>\n",
       "      <td>0.0</td>\n",
       "      <td>0.0</td>\n",
       "      <td>1.0</td>\n",
       "      <td>0.0</td>\n",
       "    </tr>\n",
       "    <tr>\n",
       "      <th>828</th>\n",
       "      <td>0</td>\n",
       "      <td>0</td>\n",
       "      <td>0</td>\n",
       "      <td>0</td>\n",
       "      <td>0</td>\n",
       "      <td>0</td>\n",
       "      <td>0</td>\n",
       "      <td>0</td>\n",
       "      <td>5</td>\n",
       "      <td>0</td>\n",
       "      <td>...</td>\n",
       "      <td>0.0</td>\n",
       "      <td>0.0</td>\n",
       "      <td>0.0</td>\n",
       "      <td>0.0</td>\n",
       "      <td>0.0</td>\n",
       "      <td>0.0</td>\n",
       "      <td>0.0</td>\n",
       "      <td>1.0</td>\n",
       "      <td>0.0</td>\n",
       "      <td>0.0</td>\n",
       "    </tr>\n",
       "    <tr>\n",
       "      <th>829</th>\n",
       "      <td>0</td>\n",
       "      <td>5</td>\n",
       "      <td>0</td>\n",
       "      <td>0</td>\n",
       "      <td>0</td>\n",
       "      <td>0</td>\n",
       "      <td>0</td>\n",
       "      <td>0</td>\n",
       "      <td>0</td>\n",
       "      <td>0</td>\n",
       "      <td>...</td>\n",
       "      <td>0.0</td>\n",
       "      <td>0.0</td>\n",
       "      <td>0.0</td>\n",
       "      <td>0.0</td>\n",
       "      <td>0.0</td>\n",
       "      <td>0.0</td>\n",
       "      <td>0.0</td>\n",
       "      <td>1.0</td>\n",
       "      <td>0.0</td>\n",
       "      <td>0.0</td>\n",
       "    </tr>\n",
       "  </tbody>\n",
       "</table>\n",
       "<p>830 rows × 1517 columns</p>\n",
       "</div>"
      ],
      "text/plain": [
       "     across  ah  air  alive  almost  alone  along  alright  always  america  \\\n",
       "0         0   0    0      0       0      0      0        0       0        0   \n",
       "1         0   0    0      0       0      0      2        0       0        0   \n",
       "2         0   0    0      0       0      1      0        0       0        0   \n",
       "3         1   0    1      0       0      1      0        0       0        0   \n",
       "4         0   0    0      0       0      2      0        0       0        0   \n",
       "..      ...  ..  ...    ...     ...    ...    ...      ...     ...      ...   \n",
       "825       0   0    0      0       0      0      0        0       1        0   \n",
       "826       0   0    0      0       0      0      0        0       0        0   \n",
       "827       0   0    0      0       0      0      0        0       0        0   \n",
       "828       0   0    0      0       0      0      0        0       5        0   \n",
       "829       0   5    0      0       0      0      0        0       0        0   \n",
       "\n",
       "     ...    0    1    2    3    4    5    6    7    8    9  \n",
       "0    ...  0.0  0.0  0.0  0.0  0.0  1.0  0.0  0.0  0.0  0.0  \n",
       "1    ...  0.0  0.0  0.0  0.0  0.0  1.0  0.0  0.0  0.0  0.0  \n",
       "2    ...  0.0  0.0  0.0  0.0  0.0  1.0  0.0  0.0  0.0  0.0  \n",
       "3    ...  0.0  0.0  0.0  0.0  0.0  1.0  0.0  0.0  0.0  0.0  \n",
       "4    ...  0.0  0.0  0.0  0.0  0.0  1.0  0.0  0.0  0.0  0.0  \n",
       "..   ...  ...  ...  ...  ...  ...  ...  ...  ...  ...  ...  \n",
       "825  ...  0.0  0.0  0.0  1.0  0.0  0.0  0.0  0.0  0.0  0.0  \n",
       "826  ...  0.0  0.0  0.0  1.0  0.0  0.0  0.0  0.0  0.0  0.0  \n",
       "827  ...  0.0  0.0  0.0  0.0  0.0  0.0  0.0  0.0  1.0  0.0  \n",
       "828  ...  0.0  0.0  0.0  0.0  0.0  0.0  0.0  1.0  0.0  0.0  \n",
       "829  ...  0.0  0.0  0.0  0.0  0.0  0.0  0.0  1.0  0.0  0.0  \n",
       "\n",
       "[830 rows x 1517 columns]"
      ]
     },
     "execution_count": 145,
     "metadata": {},
     "output_type": "execute_result"
    }
   ],
   "source": [
    "all_features"
   ]
  },
  {
   "cell_type": "markdown",
   "metadata": {},
   "source": [
    "## PART IV : Train - Test Splitting"
   ]
  },
  {
   "cell_type": "markdown",
   "metadata": {},
   "source": [
    "After you complete all pre steps, now it is time to split your data into train and test parts."
   ]
  },
  {
   "cell_type": "markdown",
   "metadata": {},
   "source": [
    "On that stage, you need to write sequencial code blocks to split your train and test sets. Justify your approach briefly."
   ]
  },
  {
   "cell_type": "code",
   "execution_count": 202,
   "metadata": {},
   "outputs": [],
   "source": [
    "from sklearn.model_selection import train_test_split\n",
    "\n",
    "X = all_features\n",
    "y = onehot_encode_genre\n",
    "X_train, X_test, y_train, y_test = train_test_split(X, y, test_size=0.25, random_state = 42)"
   ]
  },
  {
   "cell_type": "markdown",
   "metadata": {},
   "source": [
    "## PART V : Modelling"
   ]
  },
  {
   "cell_type": "markdown",
   "metadata": {},
   "source": [
    "Perform each algorithm below the list (Feel free if you want use additional algorithm):\n",
    "<li>Naive Bayes</li>\n",
    "<li>Decision Trees</li>\n",
    "<li>Random Forest</li>\n",
    "<li>GBM</li>\n",
    "\n",
    "Please, show us how you tune them."
   ]
  },
  {
   "cell_type": "markdown",
   "metadata": {},
   "source": [
    "#### 1-) Naive Bayes"
   ]
  },
  {
   "cell_type": "code",
   "execution_count": 203,
   "metadata": {},
   "outputs": [
    {
     "name": "stdout",
     "output_type": "stream",
     "text": [
      "accuracy 0.9086538461538461\n",
      "              precision    recall  f1-score   support\n",
      "\n",
      "         0.0       0.93      0.89      0.91       109\n",
      "         1.0       0.88      0.93      0.91        99\n",
      "\n",
      "    accuracy                           0.91       208\n",
      "   macro avg       0.91      0.91      0.91       208\n",
      "weighted avg       0.91      0.91      0.91       208\n",
      "\n"
     ]
    }
   ],
   "source": [
    "from sklearn.naive_bayes import MultinomialNB\n",
    "from sklearn.pipeline import Pipeline\n",
    "from sklearn.metrics import classification_report\n",
    "from sklearn.metrics import accuracy_score\n",
    "\n",
    "\n",
    "nb = Pipeline([\n",
    "               ('clf', MultinomialNB()),\n",
    "              ])\n",
    "nb.fit(X_train, y_train)\n",
    "\n",
    "yp_nb = nb.predict(X_test)\n",
    "\n",
    "print('accuracy %s' % accuracy_score(yp_nb, y_test))\n",
    "print(classification_report(y_test, yp_nb))"
   ]
  },
  {
   "cell_type": "markdown",
   "metadata": {},
   "source": [
    "#### 2-) Decision Trees"
   ]
  },
  {
   "cell_type": "code",
   "execution_count": 204,
   "metadata": {},
   "outputs": [
    {
     "name": "stdout",
     "output_type": "stream",
     "text": [
      "accuracy 0.9711538461538461\n",
      "              precision    recall  f1-score   support\n",
      "\n",
      "         0.0       0.97      0.97      0.97       109\n",
      "         1.0       0.97      0.97      0.97        99\n",
      "\n",
      "    accuracy                           0.97       208\n",
      "   macro avg       0.97      0.97      0.97       208\n",
      "weighted avg       0.97      0.97      0.97       208\n",
      "\n"
     ]
    }
   ],
   "source": [
    "from sklearn import tree\n",
    "\n",
    "dtc = tree.DecisionTreeClassifier()\n",
    "dtc = dtc.fit(X_train, y_train)\n",
    "yp_dtc = dtc.predict(X_test)\n",
    "print('accuracy %s' % accuracy_score(yp_dtc, y_test))\n",
    "print(classification_report(y_test, yp_dtc))"
   ]
  },
  {
   "cell_type": "markdown",
   "metadata": {},
   "source": [
    "#### 3-) Random Forest"
   ]
  },
  {
   "cell_type": "code",
   "execution_count": 205,
   "metadata": {},
   "outputs": [
    {
     "name": "stdout",
     "output_type": "stream",
     "text": [
      "accuracy 0.9807692307692307\n",
      "              precision    recall  f1-score   support\n",
      "\n",
      "         0.0       0.97      0.99      0.98       109\n",
      "         1.0       0.99      0.97      0.98        99\n",
      "\n",
      "    accuracy                           0.98       208\n",
      "   macro avg       0.98      0.98      0.98       208\n",
      "weighted avg       0.98      0.98      0.98       208\n",
      "\n"
     ]
    }
   ],
   "source": [
    "from sklearn.ensemble import RandomForestClassifier\n",
    "\n",
    "\n",
    "rfc = RandomForestClassifier()\n",
    "rfc.fit(X_train, y_train)\n",
    "\n",
    "yp_rfc = rfc.predict(X_test)\n",
    "print('accuracy %s' % accuracy_score(yp_rfc, y_test))\n",
    "print(classification_report(y_test, yp_rfc))"
   ]
  },
  {
   "cell_type": "markdown",
   "metadata": {},
   "source": [
    "#### 4-) GBM"
   ]
  },
  {
   "cell_type": "code",
   "execution_count": 206,
   "metadata": {},
   "outputs": [
    {
     "name": "stdout",
     "output_type": "stream",
     "text": [
      "accuracy 1.0\n",
      "              precision    recall  f1-score   support\n",
      "\n",
      "         0.0       1.00      1.00      1.00       109\n",
      "         1.0       1.00      1.00      1.00        99\n",
      "\n",
      "    accuracy                           1.00       208\n",
      "   macro avg       1.00      1.00      1.00       208\n",
      "weighted avg       1.00      1.00      1.00       208\n",
      "\n"
     ]
    }
   ],
   "source": [
    "from sklearn.ensemble import GradientBoostingClassifier\n",
    "gbm = GradientBoostingClassifier(learning_rate=0.1)\n",
    "gbm.fit(X_train,y_train)\n",
    "yp_gbm = gbm.predict(X_test)\n",
    "print('accuracy %s' % accuracy_score(yp_gbm, y_test))\n",
    "print(classification_report(y_test, yp_gbm))"
   ]
  },
  {
   "cell_type": "markdown",
   "metadata": {},
   "source": [
    "### PART VI : Model Evaluation"
   ]
  },
  {
   "cell_type": "markdown",
   "metadata": {},
   "source": [
    "Evaluate your models by using F1 Score and Accuracy Score. Additionally, plot Confusion Matrix and ROC curve. Compare algorithm results in terms of these metrics and comment them."
   ]
  },
  {
   "cell_type": "markdown",
   "metadata": {},
   "source": [
    "Even though we displayed the F1 Score and the Accuracy Score for the models while tuning it might be healthier to calculate them using the respective methods from the *sklearn.metrics* module. Better readibility in terms of comparison was another reason why we coded this section in addition."
   ]
  },
  {
   "cell_type": "code",
   "execution_count": 207,
   "metadata": {},
   "outputs": [],
   "source": [
    "import sklearn.metrics as metrics"
   ]
  },
  {
   "cell_type": "code",
   "execution_count": 208,
   "metadata": {},
   "outputs": [],
   "source": [
    "fs = []\n",
    "for y_pred in [yp_nb, yp_dtc, yp_rfc, yp_gbm]:\n",
    "    fs.append(metrics.f1_score(y_test, y_pred, average='weighted'))"
   ]
  },
  {
   "cell_type": "code",
   "execution_count": 209,
   "metadata": {},
   "outputs": [
    {
     "name": "stdout",
     "output_type": "stream",
     "text": [
      "F1 Score for Naive Bayes is 0.9087066608314787\n",
      "F1 Score for Decision Trees is 0.9711538461538461\n",
      "F1 Score for Random Forest is 0.9807585271870985\n",
      "F1 Score for Gradient Booster is 1.0\n"
     ]
    }
   ],
   "source": [
    "for f, m in zip(fs, ['Naive Bayes', 'Decision Trees', 'Random Forest', 'Gradient Booster']):\n",
    "    print('F1 Score for', m, 'is', f)"
   ]
  },
  {
   "cell_type": "code",
   "execution_count": 210,
   "metadata": {},
   "outputs": [],
   "source": [
    "acs = []\n",
    "for y_pred in [yp_nb, yp_dtc, yp_rfc, yp_gbm]:\n",
    "    acs.append(metrics.accuracy_score(y_test, y_pred, normalize=True))"
   ]
  },
  {
   "cell_type": "code",
   "execution_count": 211,
   "metadata": {},
   "outputs": [
    {
     "name": "stdout",
     "output_type": "stream",
     "text": [
      "Accuracy Score for Naive Bayes is 0.9086538461538461\n",
      "Accuracy Score for Decision Trees is 0.9711538461538461\n",
      "Accuracy Score for Random Forest is 0.9807692307692307\n",
      "Accuracy Score for Gradient Booster is 1.0\n"
     ]
    }
   ],
   "source": [
    "for a, m in zip(acs, ['Naive Bayes', 'Decision Trees', 'Random Forest', 'Gradient Booster']):\n",
    "    print('Accuracy Score for', m, 'is', a)"
   ]
  },
  {
   "cell_type": "code",
   "execution_count": 212,
   "metadata": {},
   "outputs": [],
   "source": [
    "from sklearn.metrics import ConfusionMatrixDisplay"
   ]
  },
  {
   "cell_type": "markdown",
   "metadata": {},
   "source": [
    "#### Confusion Matrix for Naive Bayes"
   ]
  },
  {
   "cell_type": "code",
   "execution_count": 213,
   "metadata": {},
   "outputs": [
    {
     "data": {
      "text/plain": [
       "<sklearn.metrics._plot.confusion_matrix.ConfusionMatrixDisplay at 0x147c9e230>"
      ]
     },
     "execution_count": 213,
     "metadata": {},
     "output_type": "execute_result"
    },
    {
     "data": {
      "image/png": "[encoded data removed]",
      "text/plain": [
       "<Figure size 640x480 with 2 Axes>"
      ]
     },
     "metadata": {},
     "output_type": "display_data"
    }
   ],
   "source": [
    "ConfusionMatrixDisplay.from_predictions(y_test, yp_nb)"
   ]
  },
  {
   "cell_type": "markdown",
   "metadata": {},
   "source": [
    "#### Confusion Matrix for Decision Trees"
   ]
  },
  {
   "cell_type": "code",
   "execution_count": 214,
   "metadata": {},
   "outputs": [
    {
     "data": {
      "text/plain": [
       "<sklearn.metrics._plot.confusion_matrix.ConfusionMatrixDisplay at 0x152f63730>"
      ]
     },
     "execution_count": 214,
     "metadata": {},
     "output_type": "execute_result"
    },
    {
     "data": {
      "image/png": "[encoded data removed]",
      "text/plain": [
       "<Figure size 640x480 with 2 Axes>"
      ]
     },
     "metadata": {},
     "output_type": "display_data"
    }
   ],
   "source": [
    "ConfusionMatrixDisplay.from_predictions(y_test, yp_dtc)"
   ]
  },
  {
   "cell_type": "markdown",
   "metadata": {},
   "source": [
    "#### Confusion Matrix for Random Forest"
   ]
  },
  {
   "cell_type": "code",
   "execution_count": 215,
   "metadata": {},
   "outputs": [
    {
     "data": {
      "text/plain": [
       "<sklearn.metrics._plot.confusion_matrix.ConfusionMatrixDisplay at 0x147c9f340>"
      ]
     },
     "execution_count": 215,
     "metadata": {},
     "output_type": "execute_result"
    },
    {
     "data": {
      "image/png": "[encoded data removed]",
      "text/plain": [
       "<Figure size 640x480 with 2 Axes>"
      ]
     },
     "metadata": {},
     "output_type": "display_data"
    }
   ],
   "source": [
    "ConfusionMatrixDisplay.from_predictions(y_test, yp_rfc)"
   ]
  },
  {
   "cell_type": "markdown",
   "metadata": {},
   "source": [
    "#### Confusion Matrix for Gradient Booster"
   ]
  },
  {
   "cell_type": "code",
   "execution_count": 184,
   "metadata": {},
   "outputs": [
    {
     "data": {
      "text/plain": [
       "<sklearn.metrics._plot.confusion_matrix.ConfusionMatrixDisplay at 0x14dd8b2b0>"
      ]
     },
     "execution_count": 184,
     "metadata": {},
     "output_type": "execute_result"
    },
    {
     "data": {
      "image/png": "[encoded data removed]",
      "text/plain": [
       "<Figure size 640x480 with 2 Axes>"
      ]
     },
     "metadata": {},
     "output_type": "display_data"
    }
   ],
   "source": [
    "ConfusionMatrixDisplay.from_predictions(y_test, yp_gbm)"
   ]
  },
  {
   "cell_type": "code",
   "execution_count": 185,
   "metadata": {},
   "outputs": [],
   "source": [
    "from sklearn.metrics import RocCurveDisplay"
   ]
  },
  {
   "cell_type": "code",
   "execution_count": 186,
   "metadata": {},
   "outputs": [
    {
     "data": {
      "text/plain": [
       "<sklearn.metrics._plot.roc_curve.RocCurveDisplay at 0x150bb2770>"
      ]
     },
     "execution_count": 186,
     "metadata": {},
     "output_type": "execute_result"
    },
    {
     "data": {
      "image/png": "[encoded data removed]",
      "text/plain": [
       "<Figure size 640x480 with 1 Axes>"
      ]
     },
     "metadata": {},
     "output_type": "display_data"
    }
   ],
   "source": [
    "RocCurveDisplay.from_predictions(y_test, yp_nb)"
   ]
  },
  {
   "cell_type": "code",
   "execution_count": 187,
   "metadata": {},
   "outputs": [
    {
     "data": {
      "text/plain": [
       "<sklearn.metrics._plot.roc_curve.RocCurveDisplay at 0x150bd2530>"
      ]
     },
     "execution_count": 187,
     "metadata": {},
     "output_type": "execute_result"
    },
    {
     "data": {
      "image/png": "[encoded data removed]",
      "text/plain": [
       "<Figure size 640x480 with 1 Axes>"
      ]
     },
     "metadata": {},
     "output_type": "display_data"
    }
   ],
   "source": [
    "RocCurveDisplay.from_predictions(y_test, yp_dtc)"
   ]
  },
  {
   "cell_type": "code",
   "execution_count": 188,
   "metadata": {},
   "outputs": [
    {
     "data": {
      "text/plain": [
       "<sklearn.metrics._plot.roc_curve.RocCurveDisplay at 0x150cb1390>"
      ]
     },
     "execution_count": 188,
     "metadata": {},
     "output_type": "execute_result"
    },
    {
     "data": {
      "image/png": "[encoded data removed]",
      "text/plain": [
       "<Figure size 640x480 with 1 Axes>"
      ]
     },
     "metadata": {},
     "output_type": "display_data"
    }
   ],
   "source": [
    "RocCurveDisplay.from_predictions(y_test, yp_rfc)"
   ]
  },
  {
   "cell_type": "code",
   "execution_count": 190,
   "metadata": {},
   "outputs": [
    {
     "data": {
      "text/plain": [
       "<sklearn.metrics._plot.roc_curve.RocCurveDisplay at 0x147c9cbb0>"
      ]
     },
     "execution_count": 190,
     "metadata": {},
     "output_type": "execute_result"
    },
    {
     "data": {
      "image/png": "[encoded data removed]",
      "text/plain": [
       "<Figure size 640x480 with 1 Axes>"
      ]
     },
     "metadata": {},
     "output_type": "display_data"
    }
   ],
   "source": [
    "RocCurveDisplay.from_predictions(y_test, yp_gbm)"
   ]
  },
  {
   "cell_type": "markdown",
   "metadata": {},
   "source": [
    "After looking at the computed statistics:\n",
    "- F-scores\n",
    "- Accuracy scores\n",
    "- Confusion Matrices\n",
    "- ROC Curves and AOC\n",
    "\n",
    "It is safe to assume all our models did a stellar job at classifying our data where Naive Bayes was the worst with an F1-Score of 0.91 which can still be considered really high. Accuracy scores were highly in line with the F-scores so provided no additional insight as to which model is better. \n",
    "\n",
    "As for the confusion matrices Naive Bayes had 12 FP's and 7 FN's out of the test data. Followed by Decision Trees where FP and FN were 3 each. Random Forest performed slightly better where it only had 1 FP and 3 FN. \n",
    "\n",
    "Our Gradient Booster Classifier really took the cake with all correct labels for the test data. F-Score and Acc. Score were both 1 as you could've guessed. It was quite magical to see this model correctly predict the genre for each row."
   ]
  }
 ],
 "metadata": {
  "kernelspec": {
   "display_name": "Python 3.10.7 64-bit",
   "language": "python",
   "name": "python3"
  },
  "language_info": {
   "codemirror_mode": {
    "name": "ipython",
    "version": 3
   },
   "file_extension": ".py",
   "mimetype": "text/x-python",
   "name": "python",
   "nbconvert_exporter": "python",
   "pygments_lexer": "ipython3",
   "version": "3.10.7"
  },
  "vscode": {
   "interpreter": {
    "hash": "aee8b7b246df8f9039afb4144a1f6fd8d2ca17a180786b69acc140d282b71a49"
   }
  }
 },
 "nbformat": 4,
 "nbformat_minor": 2
}
