{
 "cells": [
  {
   "cell_type": "markdown",
   "id": "d6c5a952",
   "metadata": {},
   "source": [
    "### MAT386E Homework 1\n",
    "#### Hasan Çelik | Uzay Karadağ\n",
    "\n",
    "First off we import the necessary libraries."
   ]
  },
  {
   "cell_type": "code",
   "execution_count": 1,
   "id": "f53f83e3",
   "metadata": {},
   "outputs": [],
   "source": [
    "import pandas as pd\n",
    "import numpy as np\n",
    "import math\n",
    "import statsmodels.api as sm\n",
    "import matplotlib.pyplot as plt\n",
    "import seaborn as sns\n",
    "from sklearn import preprocessing"
   ]
  },
  {
   "cell_type": "markdown",
   "id": "79db6d27",
   "metadata": {},
   "source": [
    "Reading the data from the .csv file to create a Pandas dataframe."
   ]
  },
  {
   "cell_type": "code",
   "execution_count": 2,
   "id": "3564b11b",
   "metadata": {},
   "outputs": [],
   "source": [
    "data = pd.read_csv(\"SeoulBikeData.csv\",encoding= 'unicode_escape')"
   ]
  },
  {
   "cell_type": "code",
   "execution_count": 3,
   "id": "a993d6cc",
   "metadata": {},
   "outputs": [
    {
     "data": {
      "text/html": [
       "<div>\n",
       "<style scoped>\n",
       "    .dataframe tbody tr th:only-of-type {\n",
       "        vertical-align: middle;\n",
       "    }\n",
       "\n",
       "    .dataframe tbody tr th {\n",
       "        vertical-align: top;\n",
       "    }\n",
       "\n",
       "    .dataframe thead th {\n",
       "        text-align: right;\n",
       "    }\n",
       "</style>\n",
       "<table border=\"1\" class=\"dataframe\">\n",
       "  <thead>\n",
       "    <tr style=\"text-align: right;\">\n",
       "      <th></th>\n",
       "      <th>Date</th>\n",
       "      <th>Rented Bike Count</th>\n",
       "      <th>Hour</th>\n",
       "      <th>Temperature(°C)</th>\n",
       "      <th>Humidity(%)</th>\n",
       "      <th>Wind speed (m/s)</th>\n",
       "      <th>Visibility (10m)</th>\n",
       "      <th>Dew point temperature(°C)</th>\n",
       "      <th>Solar Radiation (MJ/m2)</th>\n",
       "      <th>Rainfall(mm)</th>\n",
       "      <th>Snowfall (cm)</th>\n",
       "      <th>Seasons</th>\n",
       "      <th>Holiday</th>\n",
       "      <th>Functioning Day</th>\n",
       "    </tr>\n",
       "  </thead>\n",
       "  <tbody>\n",
       "    <tr>\n",
       "      <th>0</th>\n",
       "      <td>01/12/2017</td>\n",
       "      <td>254</td>\n",
       "      <td>0</td>\n",
       "      <td>-5.2</td>\n",
       "      <td>37</td>\n",
       "      <td>2.2</td>\n",
       "      <td>2000</td>\n",
       "      <td>-17.6</td>\n",
       "      <td>0.0</td>\n",
       "      <td>0.0</td>\n",
       "      <td>0.0</td>\n",
       "      <td>Winter</td>\n",
       "      <td>No Holiday</td>\n",
       "      <td>Yes</td>\n",
       "    </tr>\n",
       "    <tr>\n",
       "      <th>1</th>\n",
       "      <td>01/12/2017</td>\n",
       "      <td>204</td>\n",
       "      <td>1</td>\n",
       "      <td>-5.5</td>\n",
       "      <td>38</td>\n",
       "      <td>0.8</td>\n",
       "      <td>2000</td>\n",
       "      <td>-17.6</td>\n",
       "      <td>0.0</td>\n",
       "      <td>0.0</td>\n",
       "      <td>0.0</td>\n",
       "      <td>Winter</td>\n",
       "      <td>No Holiday</td>\n",
       "      <td>Yes</td>\n",
       "    </tr>\n",
       "    <tr>\n",
       "      <th>2</th>\n",
       "      <td>01/12/2017</td>\n",
       "      <td>173</td>\n",
       "      <td>2</td>\n",
       "      <td>-6.0</td>\n",
       "      <td>39</td>\n",
       "      <td>1.0</td>\n",
       "      <td>2000</td>\n",
       "      <td>-17.7</td>\n",
       "      <td>0.0</td>\n",
       "      <td>0.0</td>\n",
       "      <td>0.0</td>\n",
       "      <td>Winter</td>\n",
       "      <td>No Holiday</td>\n",
       "      <td>Yes</td>\n",
       "    </tr>\n",
       "    <tr>\n",
       "      <th>3</th>\n",
       "      <td>01/12/2017</td>\n",
       "      <td>107</td>\n",
       "      <td>3</td>\n",
       "      <td>-6.2</td>\n",
       "      <td>40</td>\n",
       "      <td>0.9</td>\n",
       "      <td>2000</td>\n",
       "      <td>-17.6</td>\n",
       "      <td>0.0</td>\n",
       "      <td>0.0</td>\n",
       "      <td>0.0</td>\n",
       "      <td>Winter</td>\n",
       "      <td>No Holiday</td>\n",
       "      <td>Yes</td>\n",
       "    </tr>\n",
       "    <tr>\n",
       "      <th>4</th>\n",
       "      <td>01/12/2017</td>\n",
       "      <td>78</td>\n",
       "      <td>4</td>\n",
       "      <td>-6.0</td>\n",
       "      <td>36</td>\n",
       "      <td>2.3</td>\n",
       "      <td>2000</td>\n",
       "      <td>-18.6</td>\n",
       "      <td>0.0</td>\n",
       "      <td>0.0</td>\n",
       "      <td>0.0</td>\n",
       "      <td>Winter</td>\n",
       "      <td>No Holiday</td>\n",
       "      <td>Yes</td>\n",
       "    </tr>\n",
       "  </tbody>\n",
       "</table>\n",
       "</div>"
      ],
      "text/plain": [
       "         Date  Rented Bike Count  Hour  Temperature(°C)  Humidity(%)  \\\n",
       "0  01/12/2017                254     0             -5.2           37   \n",
       "1  01/12/2017                204     1             -5.5           38   \n",
       "2  01/12/2017                173     2             -6.0           39   \n",
       "3  01/12/2017                107     3             -6.2           40   \n",
       "4  01/12/2017                 78     4             -6.0           36   \n",
       "\n",
       "   Wind speed (m/s)  Visibility (10m)  Dew point temperature(°C)  \\\n",
       "0               2.2              2000                      -17.6   \n",
       "1               0.8              2000                      -17.6   \n",
       "2               1.0              2000                      -17.7   \n",
       "3               0.9              2000                      -17.6   \n",
       "4               2.3              2000                      -18.6   \n",
       "\n",
       "   Solar Radiation (MJ/m2)  Rainfall(mm)  Snowfall (cm) Seasons     Holiday  \\\n",
       "0                      0.0           0.0            0.0  Winter  No Holiday   \n",
       "1                      0.0           0.0            0.0  Winter  No Holiday   \n",
       "2                      0.0           0.0            0.0  Winter  No Holiday   \n",
       "3                      0.0           0.0            0.0  Winter  No Holiday   \n",
       "4                      0.0           0.0            0.0  Winter  No Holiday   \n",
       "\n",
       "  Functioning Day  \n",
       "0             Yes  \n",
       "1             Yes  \n",
       "2             Yes  \n",
       "3             Yes  \n",
       "4             Yes  "
      ]
     },
     "execution_count": 3,
     "metadata": {},
     "output_type": "execute_result"
    }
   ],
   "source": [
    "data.head()"
   ]
  },
  {
   "cell_type": "code",
   "execution_count": 4,
   "id": "4d6a7017",
   "metadata": {},
   "outputs": [
    {
     "name": "stderr",
     "output_type": "stream",
     "text": [
      "/var/folders/2c/d_297r8n4yl500cdpbyd5l_80000gn/T/ipykernel_36641/1794321463.py:1: FutureWarning: The default value of numeric_only in DataFrame.corr is deprecated. In a future version, it will default to False. Select only valid columns or specify the value of numeric_only to silence this warning.\n",
      "  sns.heatmap(data.corr())\n"
     ]
    },
    {
     "data": {
      "text/plain": [
       "<AxesSubplot: >"
      ]
     },
     "execution_count": 4,
     "metadata": {},
     "output_type": "execute_result"
    },
    {
     "data": {
      "image/png": "[encoded data removed]",
      "text/plain": [
       "<Figure size 640x480 with 2 Axes>"
      ]
     },
     "metadata": {},
     "output_type": "display_data"
    }
   ],
   "source": [
    "sns.heatmap(data.corr())"
   ]
  },
  {
   "cell_type": "markdown",
   "id": "7bd37832",
   "metadata": {},
   "source": [
    "Dropping temperature columns because of the high correlation with Rented Bike Count for  better efficiency in the regression model."
   ]
  },
  {
   "cell_type": "code",
   "execution_count": 5,
   "id": "3b9712e4",
   "metadata": {},
   "outputs": [],
   "source": [
    "data = data.drop(['Dew point temperature(°C)'], axis = 1)"
   ]
  },
  {
   "cell_type": "markdown",
   "id": "9538f4fd",
   "metadata": {},
   "source": [
    "Converting the Date column to datetime objects to parse the years from the dates."
   ]
  },
  {
   "cell_type": "code",
   "execution_count": 6,
   "id": "e263c4c8",
   "metadata": {},
   "outputs": [],
   "source": [
    "data['Date'] = pd.to_datetime(data['Date'], dayfirst=True)\n"
   ]
  },
  {
   "cell_type": "code",
   "execution_count": 7,
   "id": "62a550b8",
   "metadata": {},
   "outputs": [],
   "source": [
    "data['Year'] = data['Date'].dt.year"
   ]
  },
  {
   "cell_type": "markdown",
   "id": "8ef88fed",
   "metadata": {},
   "source": [
    "Dropping the Date column as it is no longer needed with the addition of our Year column. Dropping the rows where the Functioning Day value is set to No since non-functioning days are irrelevant."
   ]
  },
  {
   "cell_type": "code",
   "execution_count": 8,
   "id": "54e3e8f7",
   "metadata": {},
   "outputs": [],
   "source": [
    "data= data.drop(['Date'] , axis = 1)\n",
    "data = data[data['Functioning Day']!='No']"
   ]
  },
  {
   "cell_type": "markdown",
   "id": "22d159ca",
   "metadata": {},
   "source": [
    "Applying One-Hot Encoding on the categorical features. One-Hot encoding is known to perform better in linear regression compared to Label Encoding that's why we went with it."
   ]
  },
  {
   "cell_type": "code",
   "execution_count": 9,
   "id": "3b02593c",
   "metadata": {},
   "outputs": [],
   "source": [
    "data = pd.get_dummies(data, columns = ['Seasons','Holiday','Functioning Day','Hour','Year'], prefix = ['Seasons','Holiday','Functioning Day','Hour','Year'],drop_first=True)"
   ]
  },
  {
   "cell_type": "markdown",
   "id": "11ddbd11",
   "metadata": {},
   "source": [
    "Finding and dropping the outlier data so that our regression line doesn't get skewed."
   ]
  },
  {
   "cell_type": "code",
   "execution_count": 10,
   "id": "5fa70571",
   "metadata": {},
   "outputs": [],
   "source": [
    "cols = data.select_dtypes(include = [\"float64\",\"int64\"]).columns\n"
   ]
  },
  {
   "cell_type": "code",
   "execution_count": 11,
   "id": "f7c47dc3",
   "metadata": {},
   "outputs": [],
   "source": [
    "for col in cols:\n",
    "    q1 = data[col].quantile(.25)\n",
    "    q3 = data[col].quantile(.75)\n",
    "    IQR = q3 - q1\n",
    "    lb = q1 - (1.5*IQR)\n",
    "    ub = q3 + (1.5*IQR)\n",
    "    upper_outliers = data[data[col] > ub].index\n",
    "    lower_outliers = data[data[col] < lb].index\n",
    "    data.drop(upper_outliers,inplace = True)\n",
    "    data.drop(lower_outliers,inplace = True)\n"
   ]
  },
  {
   "cell_type": "markdown",
   "id": "50688e14",
   "metadata": {},
   "source": [
    "Partitioning the dataset into x and y where one contains all the features and the other only contains the Rented Bike Count (target)."
   ]
  },
  {
   "cell_type": "code",
   "execution_count": 12,
   "id": "06842cae",
   "metadata": {},
   "outputs": [],
   "source": [
    "x = data.drop(['Rented Bike Count'] , axis = 1)\n",
    "y = data['Rented Bike Count']"
   ]
  },
  {
   "cell_type": "markdown",
   "id": "ca157686",
   "metadata": {},
   "source": [
    "Splitting the data into training and test sets using the train_test_split method from the sklearn module."
   ]
  },
  {
   "cell_type": "code",
   "execution_count": 13,
   "id": "87a7dd2b",
   "metadata": {},
   "outputs": [],
   "source": [
    "from sklearn.model_selection import train_test_split\n",
    "x_train, x_test, y_train, y_test = train_test_split(x, y, test_size=0.25, random_state=42)"
   ]
  },
  {
   "cell_type": "code",
   "execution_count": 14,
   "id": "9e89a5e2",
   "metadata": {},
   "outputs": [
    {
     "data": {
      "text/plain": [
       "4948"
      ]
     },
     "execution_count": 14,
     "metadata": {},
     "output_type": "execute_result"
    }
   ],
   "source": [
    "len(x_train)"
   ]
  },
  {
   "cell_type": "markdown",
   "id": "4525d582",
   "metadata": {},
   "source": [
    "Fitting the model to the unscaled data and calculating the R-Squared score to later compare with the fitting performed on the scaled version."
   ]
  },
  {
   "cell_type": "code",
   "execution_count": 15,
   "id": "7f736423",
   "metadata": {},
   "outputs": [
    {
     "name": "stdout",
     "output_type": "stream",
     "text": [
      "R-squared: 0.6978309408217955\n"
     ]
    }
   ],
   "source": [
    "from sklearn.linear_model import LinearRegression\n",
    "model = LinearRegression()\n",
    "model.fit(x_train, y_train)\n",
    "\n",
    "print('R-squared:',model.score(x_test, y_test))"
   ]
  },
  {
   "cell_type": "markdown",
   "id": "c16fde11",
   "metadata": {},
   "source": [
    "Generating predictions on the unscaled data and calculating both the Mean-Squared Error and the Root Mean-Square Error."
   ]
  },
  {
   "cell_type": "code",
   "execution_count": 16,
   "id": "7d9477d4",
   "metadata": {},
   "outputs": [
    {
     "name": "stdout",
     "output_type": "stream",
     "text": [
      "mse: 104756.31183023706\n"
     ]
    }
   ],
   "source": [
    "n = len(y_test)\n",
    "y_pred = model.predict(x_test)\n",
    "mse1 = sum((y_pred - y_test)**2)/n\n",
    "print('mse:',mse1)"
   ]
  },
  {
   "cell_type": "code",
   "execution_count": 17,
   "id": "bc222cd6",
   "metadata": {},
   "outputs": [
    {
     "name": "stdout",
     "output_type": "stream",
     "text": [
      "rmse: 323.66079748748854\n"
     ]
    }
   ],
   "source": [
    "rmse1 = math.sqrt(mse1)\n",
    "print('rmse:',rmse1)"
   ]
  },
  {
   "cell_type": "markdown",
   "id": "fe055245",
   "metadata": {},
   "source": [
    "Now we'll construct the model, fit our data and predict the Rented Bike Count again but we will first scale our dataset using the preprocessing.scale method."
   ]
  },
  {
   "cell_type": "code",
   "execution_count": 18,
   "id": "503456e8",
   "metadata": {},
   "outputs": [],
   "source": [
    "scx = preprocessing.scale(x)\n",
    "scy = preprocessing.scale(y)"
   ]
  },
  {
   "cell_type": "code",
   "execution_count": 19,
   "id": "550b9cfc",
   "metadata": {},
   "outputs": [],
   "source": [
    "from sklearn.model_selection import train_test_split\n",
    "x_train, x_test, y_train, y_test = train_test_split(scx, scy, test_size=0.25, random_state=42)"
   ]
  },
  {
   "cell_type": "code",
   "execution_count": 20,
   "id": "eea3dfa9",
   "metadata": {},
   "outputs": [
    {
     "name": "stdout",
     "output_type": "stream",
     "text": [
      "R-squared: 0.6978446845738968\n"
     ]
    }
   ],
   "source": [
    "model = LinearRegression()\n",
    "model.fit(x_train, y_train)\n",
    "print('R-squared:',model.score(x_test, y_test))"
   ]
  },
  {
   "cell_type": "markdown",
   "id": "f2c0ff96",
   "metadata": {},
   "source": [
    "The R-Squared statistic observed from both fittings are roughly equal which means the variance for Rented Bike Count depends equally on the features for both the scaled and unscaled dataset."
   ]
  },
  {
   "cell_type": "code",
   "execution_count": 21,
   "id": "70fa1fd5",
   "metadata": {},
   "outputs": [
    {
     "data": {
      "text/plain": [
       "0.2908142225025309"
      ]
     },
     "execution_count": 21,
     "metadata": {},
     "output_type": "execute_result"
    }
   ],
   "source": [
    "n = len(y_test)\n",
    "y_pred = model.predict(x_test)\n",
    "mse2 = sum((y_pred - y_test)**2)/n\n",
    "mse2"
   ]
  },
  {
   "cell_type": "code",
   "execution_count": 22,
   "id": "0f7001a9",
   "metadata": {},
   "outputs": [
    {
     "data": {
      "text/plain": [
       "0.5392719374328048"
      ]
     },
     "execution_count": 22,
     "metadata": {},
     "output_type": "execute_result"
    }
   ],
   "source": [
    "rmse2 = math.sqrt(mse2)\n",
    "rmse2"
   ]
  },
  {
   "cell_type": "markdown",
   "id": "ae483f0d",
   "metadata": {},
   "source": [
    "Importing the statsmodels.api module to drop features where p < 0.05 to try and get a better prediction."
   ]
  },
  {
   "cell_type": "code",
   "execution_count": 23,
   "id": "8e2444c0",
   "metadata": {},
   "outputs": [
    {
     "data": {
      "text/html": [
       "<table class=\"simpletable\">\n",
       "<caption>OLS Regression Results</caption>\n",
       "<tr>\n",
       "  <th>Dep. Variable:</th>            <td>y</td>        <th>  R-squared:         </th> <td>   0.689</td>\n",
       "</tr>\n",
       "<tr>\n",
       "  <th>Model:</th>                   <td>OLS</td>       <th>  Adj. R-squared:    </th> <td>   0.687</td>\n",
       "</tr>\n",
       "<tr>\n",
       "  <th>Method:</th>             <td>Least Squares</td>  <th>  F-statistic:       </th> <td>   330.2</td>\n",
       "</tr>\n",
       "<tr>\n",
       "  <th>Date:</th>             <td>Sun, 09 Oct 2022</td> <th>  Prob (F-statistic):</th>  <td>  0.00</td> \n",
       "</tr>\n",
       "<tr>\n",
       "  <th>Time:</th>                 <td>22:15:14</td>     <th>  Log-Likelihood:    </th> <td> -4159.4</td>\n",
       "</tr>\n",
       "<tr>\n",
       "  <th>No. Observations:</th>      <td>  4948</td>      <th>  AIC:               </th> <td>   8387.</td>\n",
       "</tr>\n",
       "<tr>\n",
       "  <th>Df Residuals:</th>          <td>  4914</td>      <th>  BIC:               </th> <td>   8608.</td>\n",
       "</tr>\n",
       "<tr>\n",
       "  <th>Df Model:</th>              <td>    33</td>      <th>                     </th>     <td> </td>   \n",
       "</tr>\n",
       "<tr>\n",
       "  <th>Covariance Type:</th>      <td>nonrobust</td>    <th>                     </th>     <td> </td>   \n",
       "</tr>\n",
       "</table>\n",
       "<table class=\"simpletable\">\n",
       "<tr>\n",
       "    <td></td>       <th>coef</th>     <th>std err</th>      <th>t</th>      <th>P>|t|</th>  <th>[0.025</th>    <th>0.975]</th>  \n",
       "</tr>\n",
       "<tr>\n",
       "  <th>const</th> <td>    0.0030</td> <td>    0.008</td> <td>    0.378</td> <td> 0.706</td> <td>   -0.013</td> <td>    0.019</td>\n",
       "</tr>\n",
       "<tr>\n",
       "  <th>x1</th>    <td>    0.4191</td> <td>    0.018</td> <td>   22.987</td> <td> 0.000</td> <td>    0.383</td> <td>    0.455</td>\n",
       "</tr>\n",
       "<tr>\n",
       "  <th>x2</th>    <td>   -0.1269</td> <td>    0.012</td> <td>  -10.360</td> <td> 0.000</td> <td>   -0.151</td> <td>   -0.103</td>\n",
       "</tr>\n",
       "<tr>\n",
       "  <th>x3</th>    <td>   -0.0120</td> <td>    0.009</td> <td>   -1.268</td> <td> 0.205</td> <td>   -0.030</td> <td>    0.007</td>\n",
       "</tr>\n",
       "<tr>\n",
       "  <th>x4</th>    <td>    0.0111</td> <td>    0.010</td> <td>    1.104</td> <td> 0.270</td> <td>   -0.009</td> <td>    0.031</td>\n",
       "</tr>\n",
       "<tr>\n",
       "  <th>x5</th>    <td>    0.1081</td> <td>    0.016</td> <td>    6.648</td> <td> 0.000</td> <td>    0.076</td> <td>    0.140</td>\n",
       "</tr>\n",
       "<tr>\n",
       "  <th>x6</th>    <td>-1.442e-16</td> <td> 1.43e-17</td> <td>  -10.056</td> <td> 0.000</td> <td>-1.72e-16</td> <td>-1.16e-16</td>\n",
       "</tr>\n",
       "<tr>\n",
       "  <th>x7</th>    <td> 2.515e-17</td> <td> 2.89e-17</td> <td>    0.869</td> <td> 0.385</td> <td>-3.16e-17</td> <td> 8.19e-17</td>\n",
       "</tr>\n",
       "<tr>\n",
       "  <th>x8</th>    <td>   -0.1198</td> <td>    0.010</td> <td>  -11.702</td> <td> 0.000</td> <td>   -0.140</td> <td>   -0.100</td>\n",
       "</tr>\n",
       "<tr>\n",
       "  <th>x9</th>    <td>   -0.0880</td> <td>    0.013</td> <td>   -6.630</td> <td> 0.000</td> <td>   -0.114</td> <td>   -0.062</td>\n",
       "</tr>\n",
       "<tr>\n",
       "  <th>x10</th>   <td>   -0.2881</td> <td>    0.015</td> <td>  -19.009</td> <td> 0.000</td> <td>   -0.318</td> <td>   -0.258</td>\n",
       "</tr>\n",
       "<tr>\n",
       "  <th>x11</th>   <td>    0.0459</td> <td>    0.008</td> <td>    5.521</td> <td> 0.000</td> <td>    0.030</td> <td>    0.062</td>\n",
       "</tr>\n",
       "<tr>\n",
       "  <th>x12</th>   <td>   -0.0472</td> <td>    0.011</td> <td>   -4.106</td> <td> 0.000</td> <td>   -0.070</td> <td>   -0.025</td>\n",
       "</tr>\n",
       "<tr>\n",
       "  <th>x13</th>   <td>   -0.0900</td> <td>    0.011</td> <td>   -7.949</td> <td> 0.000</td> <td>   -0.112</td> <td>   -0.068</td>\n",
       "</tr>\n",
       "<tr>\n",
       "  <th>x14</th>   <td>   -0.1245</td> <td>    0.011</td> <td>  -11.248</td> <td> 0.000</td> <td>   -0.146</td> <td>   -0.103</td>\n",
       "</tr>\n",
       "<tr>\n",
       "  <th>x15</th>   <td>   -0.1551</td> <td>    0.011</td> <td>  -13.711</td> <td> 0.000</td> <td>   -0.177</td> <td>   -0.133</td>\n",
       "</tr>\n",
       "<tr>\n",
       "  <th>x16</th>   <td>   -0.1420</td> <td>    0.011</td> <td>  -12.725</td> <td> 0.000</td> <td>   -0.164</td> <td>   -0.120</td>\n",
       "</tr>\n",
       "<tr>\n",
       "  <th>x17</th>   <td>   -0.0802</td> <td>    0.011</td> <td>   -7.042</td> <td> 0.000</td> <td>   -0.103</td> <td>   -0.058</td>\n",
       "</tr>\n",
       "<tr>\n",
       "  <th>x18</th>   <td>    0.0354</td> <td>    0.011</td> <td>    3.154</td> <td> 0.002</td> <td>    0.013</td> <td>    0.057</td>\n",
       "</tr>\n",
       "<tr>\n",
       "  <th>x19</th>   <td>    0.1758</td> <td>    0.011</td> <td>   15.569</td> <td> 0.000</td> <td>    0.154</td> <td>    0.198</td>\n",
       "</tr>\n",
       "<tr>\n",
       "  <th>x20</th>   <td>   -0.0007</td> <td>    0.012</td> <td>   -0.061</td> <td> 0.951</td> <td>   -0.024</td> <td>    0.023</td>\n",
       "</tr>\n",
       "<tr>\n",
       "  <th>x21</th>   <td>   -0.0725</td> <td>    0.012</td> <td>   -6.036</td> <td> 0.000</td> <td>   -0.096</td> <td>   -0.049</td>\n",
       "</tr>\n",
       "<tr>\n",
       "  <th>x22</th>   <td>   -0.0534</td> <td>    0.012</td> <td>   -4.579</td> <td> 0.000</td> <td>   -0.076</td> <td>   -0.031</td>\n",
       "</tr>\n",
       "<tr>\n",
       "  <th>x23</th>   <td>   -0.0491</td> <td>    0.011</td> <td>   -4.343</td> <td> 0.000</td> <td>   -0.071</td> <td>   -0.027</td>\n",
       "</tr>\n",
       "<tr>\n",
       "  <th>x24</th>   <td>   -0.0425</td> <td>    0.011</td> <td>   -3.844</td> <td> 0.000</td> <td>   -0.064</td> <td>   -0.021</td>\n",
       "</tr>\n",
       "<tr>\n",
       "  <th>x25</th>   <td>   -0.0438</td> <td>    0.011</td> <td>   -3.888</td> <td> 0.000</td> <td>   -0.066</td> <td>   -0.022</td>\n",
       "</tr>\n",
       "<tr>\n",
       "  <th>x26</th>   <td>   -0.0200</td> <td>    0.012</td> <td>   -1.698</td> <td> 0.090</td> <td>   -0.043</td> <td>    0.003</td>\n",
       "</tr>\n",
       "<tr>\n",
       "  <th>x27</th>   <td>    0.0172</td> <td>    0.012</td> <td>    1.406</td> <td> 0.160</td> <td>   -0.007</td> <td>    0.041</td>\n",
       "</tr>\n",
       "<tr>\n",
       "  <th>x28</th>   <td>    0.1326</td> <td>    0.012</td> <td>   10.726</td> <td> 0.000</td> <td>    0.108</td> <td>    0.157</td>\n",
       "</tr>\n",
       "<tr>\n",
       "  <th>x29</th>   <td>    0.1753</td> <td>    0.011</td> <td>   16.220</td> <td> 0.000</td> <td>    0.154</td> <td>    0.196</td>\n",
       "</tr>\n",
       "<tr>\n",
       "  <th>x30</th>   <td>    0.1637</td> <td>    0.011</td> <td>   14.663</td> <td> 0.000</td> <td>    0.142</td> <td>    0.186</td>\n",
       "</tr>\n",
       "<tr>\n",
       "  <th>x31</th>   <td>    0.1674</td> <td>    0.011</td> <td>   14.972</td> <td> 0.000</td> <td>    0.146</td> <td>    0.189</td>\n",
       "</tr>\n",
       "<tr>\n",
       "  <th>x32</th>   <td>    0.1743</td> <td>    0.011</td> <td>   15.584</td> <td> 0.000</td> <td>    0.152</td> <td>    0.196</td>\n",
       "</tr>\n",
       "<tr>\n",
       "  <th>x33</th>   <td>    0.1382</td> <td>    0.011</td> <td>   12.173</td> <td> 0.000</td> <td>    0.116</td> <td>    0.160</td>\n",
       "</tr>\n",
       "<tr>\n",
       "  <th>x34</th>   <td>    0.0458</td> <td>    0.011</td> <td>    4.081</td> <td> 0.000</td> <td>    0.024</td> <td>    0.068</td>\n",
       "</tr>\n",
       "<tr>\n",
       "  <th>x35</th>   <td>   -0.0427</td> <td>    0.010</td> <td>   -4.435</td> <td> 0.000</td> <td>   -0.062</td> <td>   -0.024</td>\n",
       "</tr>\n",
       "</table>\n",
       "<table class=\"simpletable\">\n",
       "<tr>\n",
       "  <th>Omnibus:</th>       <td>61.667</td> <th>  Durbin-Watson:     </th> <td>   2.003</td>\n",
       "</tr>\n",
       "<tr>\n",
       "  <th>Prob(Omnibus):</th> <td> 0.000</td> <th>  Jarque-Bera (JB):  </th> <td>  93.675</td>\n",
       "</tr>\n",
       "<tr>\n",
       "  <th>Skew:</th>          <td> 0.125</td> <th>  Prob(JB):          </th> <td>4.56e-21</td>\n",
       "</tr>\n",
       "<tr>\n",
       "  <th>Kurtosis:</th>      <td> 3.626</td> <th>  Cond. No.          </th> <td>1.68e+16</td>\n",
       "</tr>\n",
       "</table><br/><br/>Notes:<br/>[1] Standard Errors assume that the covariance matrix of the errors is correctly specified.<br/>[2] The smallest eigenvalue is 4.65e-29. This might indicate that there are<br/>strong multicollinearity problems or that the design matrix is singular."
      ],
      "text/plain": [
       "<class 'statsmodels.iolib.summary.Summary'>\n",
       "\"\"\"\n",
       "                            OLS Regression Results                            \n",
       "==============================================================================\n",
       "Dep. Variable:                      y   R-squared:                       0.689\n",
       "Model:                            OLS   Adj. R-squared:                  0.687\n",
       "Method:                 Least Squares   F-statistic:                     330.2\n",
       "Date:                Sun, 09 Oct 2022   Prob (F-statistic):               0.00\n",
       "Time:                        22:15:14   Log-Likelihood:                -4159.4\n",
       "No. Observations:                4948   AIC:                             8387.\n",
       "Df Residuals:                    4914   BIC:                             8608.\n",
       "Df Model:                          33                                         \n",
       "Covariance Type:            nonrobust                                         \n",
       "==============================================================================\n",
       "                 coef    std err          t      P>|t|      [0.025      0.975]\n",
       "------------------------------------------------------------------------------\n",
       "const          0.0030      0.008      0.378      0.706      -0.013       0.019\n",
       "x1             0.4191      0.018     22.987      0.000       0.383       0.455\n",
       "x2            -0.1269      0.012    -10.360      0.000      -0.151      -0.103\n",
       "x3            -0.0120      0.009     -1.268      0.205      -0.030       0.007\n",
       "x4             0.0111      0.010      1.104      0.270      -0.009       0.031\n",
       "x5             0.1081      0.016      6.648      0.000       0.076       0.140\n",
       "x6         -1.442e-16   1.43e-17    -10.056      0.000   -1.72e-16   -1.16e-16\n",
       "x7          2.515e-17   2.89e-17      0.869      0.385   -3.16e-17    8.19e-17\n",
       "x8            -0.1198      0.010    -11.702      0.000      -0.140      -0.100\n",
       "x9            -0.0880      0.013     -6.630      0.000      -0.114      -0.062\n",
       "x10           -0.2881      0.015    -19.009      0.000      -0.318      -0.258\n",
       "x11            0.0459      0.008      5.521      0.000       0.030       0.062\n",
       "x12           -0.0472      0.011     -4.106      0.000      -0.070      -0.025\n",
       "x13           -0.0900      0.011     -7.949      0.000      -0.112      -0.068\n",
       "x14           -0.1245      0.011    -11.248      0.000      -0.146      -0.103\n",
       "x15           -0.1551      0.011    -13.711      0.000      -0.177      -0.133\n",
       "x16           -0.1420      0.011    -12.725      0.000      -0.164      -0.120\n",
       "x17           -0.0802      0.011     -7.042      0.000      -0.103      -0.058\n",
       "x18            0.0354      0.011      3.154      0.002       0.013       0.057\n",
       "x19            0.1758      0.011     15.569      0.000       0.154       0.198\n",
       "x20           -0.0007      0.012     -0.061      0.951      -0.024       0.023\n",
       "x21           -0.0725      0.012     -6.036      0.000      -0.096      -0.049\n",
       "x22           -0.0534      0.012     -4.579      0.000      -0.076      -0.031\n",
       "x23           -0.0491      0.011     -4.343      0.000      -0.071      -0.027\n",
       "x24           -0.0425      0.011     -3.844      0.000      -0.064      -0.021\n",
       "x25           -0.0438      0.011     -3.888      0.000      -0.066      -0.022\n",
       "x26           -0.0200      0.012     -1.698      0.090      -0.043       0.003\n",
       "x27            0.0172      0.012      1.406      0.160      -0.007       0.041\n",
       "x28            0.1326      0.012     10.726      0.000       0.108       0.157\n",
       "x29            0.1753      0.011     16.220      0.000       0.154       0.196\n",
       "x30            0.1637      0.011     14.663      0.000       0.142       0.186\n",
       "x31            0.1674      0.011     14.972      0.000       0.146       0.189\n",
       "x32            0.1743      0.011     15.584      0.000       0.152       0.196\n",
       "x33            0.1382      0.011     12.173      0.000       0.116       0.160\n",
       "x34            0.0458      0.011      4.081      0.000       0.024       0.068\n",
       "x35           -0.0427      0.010     -4.435      0.000      -0.062      -0.024\n",
       "==============================================================================\n",
       "Omnibus:                       61.667   Durbin-Watson:                   2.003\n",
       "Prob(Omnibus):                  0.000   Jarque-Bera (JB):               93.675\n",
       "Skew:                           0.125   Prob(JB):                     4.56e-21\n",
       "Kurtosis:                       3.626   Cond. No.                     1.68e+16\n",
       "==============================================================================\n",
       "\n",
       "Notes:\n",
       "[1] Standard Errors assume that the covariance matrix of the errors is correctly specified.\n",
       "[2] The smallest eigenvalue is 4.65e-29. This might indicate that there are\n",
       "strong multicollinearity problems or that the design matrix is singular.\n",
       "\"\"\""
      ]
     },
     "execution_count": 23,
     "metadata": {},
     "output_type": "execute_result"
    }
   ],
   "source": [
    "import statsmodels.api as sm\n",
    "sx_train = sm.add_constant(x_train)\n",
    "smodel = sm.OLS(y_train,sx_train)\n",
    "smodel = smodel.fit()\n",
    "\n",
    "smodel.summary()"
   ]
  },
  {
   "cell_type": "code",
   "execution_count": 24,
   "id": "4f11072c",
   "metadata": {},
   "outputs": [
    {
     "data": {
      "image/png": "[encoded data removed]",
      "text/plain": [
       "<Figure size 640x480 with 1 Axes>"
      ]
     },
     "metadata": {},
     "output_type": "display_data"
    }
   ],
   "source": [
    "residuals = smodel.resid\n",
    "fitted_value = smodel.fittedvalues\n",
    "\n",
    "sm.qqplot(residuals,fit=True,line='45')\n",
    "plt.title('Residuals vs. The Regression Line')\n",
    "plt.show()"
   ]
  },
  {
   "cell_type": "code",
   "execution_count": 25,
   "id": "641cb8e2",
   "metadata": {},
   "outputs": [
    {
     "data": {
      "text/plain": [
       "Index(['Humidity(%)', 'Wind speed (m/s)', 'Rainfall(mm)', 'Snowfall (cm)',\n",
       "       'Hour_9', 'Hour_15', 'Hour_16'],\n",
       "      dtype='object')"
      ]
     },
     "execution_count": 25,
     "metadata": {},
     "output_type": "execute_result"
    }
   ],
   "source": [
    "xcol = x.columns\n",
    "xcol[[1,2,5,6,19,25,26]]"
   ]
  },
  {
   "cell_type": "code",
   "execution_count": 26,
   "id": "d1558bbb",
   "metadata": {},
   "outputs": [],
   "source": [
    "x = x.drop(['Humidity(%)', 'Solar Radiation (MJ/m2)', 'Seasons_Winter',\n",
    "       'Holiday_No Holiday', 'Hour_14', 'Hour_22', 'Hour_23'],axis = 1)"
   ]
  },
  {
   "cell_type": "code",
   "execution_count": 27,
   "id": "2796d26e",
   "metadata": {},
   "outputs": [
    {
     "name": "stdout",
     "output_type": "stream",
     "text": [
      "R-squared: 0.6469818316456726\n"
     ]
    }
   ],
   "source": [
    "scx = preprocessing.scale(x)\n",
    "scy = preprocessing.scale(y)\n",
    "\n",
    "x_train, x_test, y_train, y_test = train_test_split(scx, scy, test_size=0.25, random_state=42)\n",
    "\n",
    "model = LinearRegression()\n",
    "model.fit(x_train, y_train)\n",
    "print('R-squared:',model.score(x_test, y_test))"
   ]
  },
  {
   "cell_type": "code",
   "execution_count": 28,
   "id": "3a979530",
   "metadata": {},
   "outputs": [
    {
     "data": {
      "text/plain": [
       "0.3397679898976966"
      ]
     },
     "execution_count": 28,
     "metadata": {},
     "output_type": "execute_result"
    }
   ],
   "source": [
    "n = len(y_test)\n",
    "y_pred = model.predict(x_test)\n",
    "mse3 = sum((y_pred - y_test)**2)/n\n",
    "mse3"
   ]
  },
  {
   "cell_type": "code",
   "execution_count": 29,
   "id": "9efce9b1",
   "metadata": {},
   "outputs": [
    {
     "data": {
      "text/plain": [
       "0.5828962085120271"
      ]
     },
     "execution_count": 29,
     "metadata": {},
     "output_type": "execute_result"
    }
   ],
   "source": [
    "rmse3 = math.sqrt(mse3)\n",
    "rmse3"
   ]
  },
  {
   "cell_type": "markdown",
   "id": "8fdaf9b1",
   "metadata": {},
   "source": [
    "Comparing the models:\n",
    "To compare the models we will use the calculated statistics (R-squared, MSE and RMSE) "
   ]
  },
  {
   "cell_type": "code",
   "execution_count": 31,
   "id": "82aa3743",
   "metadata": {},
   "outputs": [
    {
     "name": "stdout",
     "output_type": "stream",
     "text": [
      "RMSE for the unscaled data: 323.66079748748854\n",
      "RMSE for the scaled data: 0.5392719374328048\n",
      "RMSE for the data after the features with p < 0.05 are dropped: 0.5828962085120271\n"
     ]
    }
   ],
   "source": [
    "print(\"RMSE for the unscaled data: {}\".format(rmse1))\n",
    "print(\"RMSE for the scaled data: {}\".format(rmse2))\n",
    "print(\"RMSE for the data after the features with p < 0.05 are dropped: {}\".format(rmse3))"
   ]
  },
  {
   "cell_type": "markdown",
   "id": "e079dba4",
   "metadata": {},
   "source": [
    "As it can be seen RMSE for the scaled data is much lower than the one for the scaled data which means the regression line without scaling fit was really bad, however the difference between the  RMSE values of the scaled data and the data with adjusted features are neglible.\n",
    "\n",
    "The lesson learned from this is to scale the data before performing any type of regression."
   ]
  },
  {
   "cell_type": "markdown",
   "id": "0a09b956",
   "metadata": {},
   "source": [
    "\n",
    "\n",
    "As for how to improve the linear regression model we can use the assumptions we make about the data which are:\n",
    "\n",
    "- No multi-colinearity\n",
    "- Auto-correlation\n",
    "- Normality of the distribution\n",
    "- Linearity\n",
    "- No heteroskedasticity\n",
    "\n",
    "**No multi-colinearity**\n",
    "High correlation between features affect the performance of linear regression, to make this assumption true early on in the notebook we dropped the Dew point temperature feature as it was highly correlated with the Temperature feature.\n",
    "\n",
    "\n",
    "**Autocorrelation**\n",
    "Seoul Bike Data is in the form of time series therefore autocorrelation is one of the assumptions made before performing linear regression. The correlation between the consecutive days rented bike count does not really affect the rented bike count 3 months from then, however the goodness of the fit drops since autocorrelation affects standard errors. We could have performed a statistical test such as the Durbin-Watson test to see if there is autocorrelation in the dataset.\n",
    "\n",
    "**Normality of the distribution**\n",
    "Assumption of normality in the distribution of the data basically means that the continuous dependent variable(Rented Bike Count) is normally distributed. Higher the skewness of the distribution worse fitted regression line we're going to get. To fix the skewness of the data we could've performed logarithmic or exponential transformation on the data depending on the type of skewness on the distrubition.\n",
    "\n",
    "**Linearity**\n",
    "This is the most basic assupmtion we make about any data before performing *linear* regression. Normality of the distribution deals with the skewness of the dependent variable and linearity deals with the data points of the independent variables(features) to combat with low linearity one could apply exponential, logarithmic or similar tranformations on the features depending on the type of non-linearity in the given feature.\n",
    "\n",
    "**No heteroskedasticity**\n",
    "No heteroskedasticity assumes that the dependent variable(target) does not affect the variance between the data points. To test if there is heteroskedasticity we have to look at the f-statistic and p-value. "
   ]
  }
 ],
 "metadata": {
  "kernelspec": {
   "display_name": "Python 3 (ipykernel)",
   "language": "python",
   "name": "python3"
  },
  "language_info": {
   "codemirror_mode": {
    "name": "ipython",
    "version": 3
   },
   "file_extension": ".py",
   "mimetype": "text/x-python",
   "name": "python",
   "nbconvert_exporter": "python",
   "pygments_lexer": "ipython3",
   "version": "3.10.7"
  }
 },
 "nbformat": 4,
 "nbformat_minor": 5
}
